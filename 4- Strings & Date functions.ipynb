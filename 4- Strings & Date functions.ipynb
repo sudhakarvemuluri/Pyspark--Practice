{
 "cells": [
  {
   "cell_type": "code",
   "execution_count": 0,
   "metadata": {
    "application/vnd.databricks.v1+cell": {
     "cellMetadata": {
      "byteLimit": 2048000,
      "rowLimit": 10000
     },
     "inputWidgets": {},
     "nuid": "8bf889ec-7a71-454f-b5a3-1c1665bf9a67",
     "showTitle": false,
     "tableResultSettingsMap": {},
     "title": ""
    }
   },
   "outputs": [],
   "source": [
    "from pyspark.sql import SparkSession\n",
    "from pyspark.sql.functions import *\n",
    "from pyspark import SparkContext, SparkConf\n",
    "\n",
    "spark = SparkSession.builder.master(\"local[*]\").appName(\"StringHandson\").getOrCreate()\n"
   ]
  },
  {
   "cell_type": "code",
   "execution_count": 0,
   "metadata": {
    "application/vnd.databricks.v1+cell": {
     "cellMetadata": {
      "byteLimit": 2048000,
      "rowLimit": 10000
     },
     "inputWidgets": {},
     "nuid": "d1ac43d0-20db-4e22-8027-41e386c69511",
     "showTitle": false,
     "tableResultSettingsMap": {},
     "title": ""
    }
   },
   "outputs": [
    {
     "output_type": "display_data",
     "data": {
      "text/html": [
       "\n",
       "            <div>\n",
       "                <p><b>SparkSession - hive</b></p>\n",
       "                \n",
       "        <div>\n",
       "            <p><b>SparkContext</b></p>\n",
       "\n",
       "            <p><a href=\"/?o=1712464757339678#setting/sparkui/0404-101531-p5m6zthd/driver-5530099979821549397\">Spark UI</a></p>\n",
       "\n",
       "            <dl>\n",
       "              <dt>Version</dt>\n",
       "                <dd><code>v3.3.2</code></dd>\n",
       "              <dt>Master</dt>\n",
       "                <dd><code>local[8]</code></dd>\n",
       "              <dt>AppName</dt>\n",
       "                <dd><code>Databricks Shell</code></dd>\n",
       "            </dl>\n",
       "        </div>\n",
       "        \n",
       "            </div>\n",
       "        "
      ]
     },
     "metadata": {
      "application/vnd.databricks.v1+output": {
       "addedWidgets": {},
       "arguments": {},
       "data": "\n            <div>\n                <p><b>SparkSession - hive</b></p>\n                \n        <div>\n            <p><b>SparkContext</b></p>\n\n            <p><a href=\"/?o=1712464757339678#setting/sparkui/0404-101531-p5m6zthd/driver-5530099979821549397\">Spark UI</a></p>\n\n            <dl>\n              <dt>Version</dt>\n                <dd><code>v3.3.2</code></dd>\n              <dt>Master</dt>\n                <dd><code>local[8]</code></dd>\n              <dt>AppName</dt>\n                <dd><code>Databricks Shell</code></dd>\n            </dl>\n        </div>\n        \n            </div>\n        ",
       "datasetInfos": [],
       "metadata": {},
       "removedWidgets": [],
       "textData": null,
       "type": "htmlSandbox"
      }
     },
     "output_type": "display_data"
    }
   ],
   "source": [
    "spark"
   ]
  },
  {
   "cell_type": "code",
   "execution_count": 0,
   "metadata": {
    "application/vnd.databricks.v1+cell": {
     "cellMetadata": {
      "byteLimit": 2048000,
      "rowLimit": 10000
     },
     "inputWidgets": {},
     "nuid": "0c544c37-d23e-4bec-8e1f-b826f0a0864a",
     "showTitle": false,
     "tableResultSettingsMap": {},
     "title": ""
    }
   },
   "outputs": [],
   "source": [
    "emp_data = [\n",
    "    [\"000\", \"107\", \"Emily Lee\", 26, \"\", 46000, \"2019-01-01\"],\n",
    "    [\"001\", \"101\", \"John Doe\", 30, \"Male\", 50000, \"2015-01-01\"],\n",
    "    [\"002\", \"101\", \"Jane Smith\", 25, \"Female\", 45000, \"2016-02-15\"],\n",
    "    [\"003\", \"102\", \"Bob Brown\", 35, \"Male\", 55000, \"2014-05-01\"],\n",
    "    [\"004\", \"102\", \"Alice Lee\", 28, \"Female\", 48000, \"2017-09-30\"],\n",
    "    [\"005\", \"103\", \"Jack Chan\", 40, \"Male\", 60000, \"2013-04-01\"],\n",
    "    [\"006\", \"103\", \"Jill Wong\", 32, \"Female\", 52000, \"2018-07-01\"],\n",
    "    [\"007\", \"101\", \"James Johnson\", 42, \"Male\", 70000, \"2012-03-15\"],\n",
    "    [\"008\", \"102\", \"Kate Kim\", 29, \"Female\", 51000, \"2019-10-01\"],\n",
    "    [\"009\", \"103\", \"Tom Tan\", 33, \"Male\", 58000, \"2016-06-01\"],\n",
    "    [\"010\", \"104\", \"Lisa Lee\", 27, \"Female\", 47000, \"2018-08-01\"],\n",
    "    [\"011\", \"104\", \"David Park\", 38, \"Male\", 65000, \"2015-11-01\"],\n",
    "    [\"012\", \"105\", \"Susan Chen\", 31, \"Female\", 54000, \"2017-02-15\"],\n",
    "    [\"013\", \"106\", \"Brian Kim\", 45, \"Male\", 75000, \"2011-07-01\"],\n",
    "    [\"014\", \"107\", \"Emily Lee\", 26, \"Female\", 46000, \"2019-01-01\"],\n",
    "    [\"015\", \"106\", \"Michael Lee\", 37, \"Male\", 63000, \"2014-09-30\"],\n",
    "    [\"016\", \"107\", \"Kelly Zhang\", 30, \"Female\", 49000, \"2018-04-01\"],\n",
    "    [\"017\", \"105\", \"George Wang\", 34, \"Male\", 57000, \"2016-03-15\"],\n",
    "    [\"018\", \"104\", \"Nancy Liu\", 29, \"Female\", 50000, \"2017-06-01\"],\n",
    "    [\"019\", \"103\", \"Steven Chen\", 36, \"Male\", 62000, \"2015-08-01\"],\n",
    "    [\"020\", \"102\", \"Grace Kim\", 32, \"Female\", 53000, \"2018-11-01\"],\n",
    "]\n",
    "\n",
    "emp_schema = \"employee_id string, department_id string, name string, age string, gender string, salary string, hire_date string\""
   ]
  },
  {
   "cell_type": "code",
   "execution_count": 0,
   "metadata": {
    "application/vnd.databricks.v1+cell": {
     "cellMetadata": {
      "byteLimit": 2048000,
      "rowLimit": 10000
     },
     "inputWidgets": {},
     "nuid": "246231de-b549-4a08-96a5-caa3d4d20d92",
     "showTitle": false,
     "tableResultSettingsMap": {},
     "title": ""
    }
   },
   "outputs": [],
   "source": [
    "emp = spark.createDataFrame(emp_data, schema = emp_schema)"
   ]
  },
  {
   "cell_type": "code",
   "execution_count": 0,
   "metadata": {
    "application/vnd.databricks.v1+cell": {
     "cellMetadata": {
      "byteLimit": 2048000,
      "rowLimit": 10000
     },
     "inputWidgets": {},
     "nuid": "383229d6-75ae-4541-81ed-c04e81143ee9",
     "showTitle": false,
     "tableResultSettingsMap": {},
     "title": ""
    }
   },
   "outputs": [
    {
     "output_type": "stream",
     "name": "stdout",
     "output_type": "stream",
     "text": [
      "+-----------+-------------+-------------+---+------+------+----------+\n|employee_id|department_id|         name|age|gender|salary| hire_date|\n+-----------+-------------+-------------+---+------+------+----------+\n|        000|          107|    Emily Lee| 26|      | 46000|2019-01-01|\n|        001|          101|     John Doe| 30|  Male| 50000|2015-01-01|\n|        002|          101|   Jane Smith| 25|Female| 45000|2016-02-15|\n|        003|          102|    Bob Brown| 35|  Male| 55000|2014-05-01|\n|        004|          102|    Alice Lee| 28|Female| 48000|2017-09-30|\n|        005|          103|    Jack Chan| 40|  Male| 60000|2013-04-01|\n|        006|          103|    Jill Wong| 32|Female| 52000|2018-07-01|\n|        007|          101|James Johnson| 42|  Male| 70000|2012-03-15|\n|        008|          102|     Kate Kim| 29|Female| 51000|2019-10-01|\n|        009|          103|      Tom Tan| 33|  Male| 58000|2016-06-01|\n|        010|          104|     Lisa Lee| 27|Female| 47000|2018-08-01|\n|        011|          104|   David Park| 38|  Male| 65000|2015-11-01|\n|        012|          105|   Susan Chen| 31|Female| 54000|2017-02-15|\n|        013|          106|    Brian Kim| 45|  Male| 75000|2011-07-01|\n|        014|          107|    Emily Lee| 26|Female| 46000|2019-01-01|\n|        015|          106|  Michael Lee| 37|  Male| 63000|2014-09-30|\n|        016|          107|  Kelly Zhang| 30|Female| 49000|2018-04-01|\n|        017|          105|  George Wang| 34|  Male| 57000|2016-03-15|\n|        018|          104|    Nancy Liu| 29|Female| 50000|2017-06-01|\n|        019|          103|  Steven Chen| 36|  Male| 62000|2015-08-01|\n+-----------+-------------+-------------+---+------+------+----------+\nonly showing top 20 rows\n\n"
     ]
    }
   ],
   "source": [
    "emp.show()"
   ]
  },
  {
   "cell_type": "code",
   "execution_count": 0,
   "metadata": {
    "application/vnd.databricks.v1+cell": {
     "cellMetadata": {
      "byteLimit": 2048000,
      "rowLimit": 10000
     },
     "inputWidgets": {},
     "nuid": "540afd92-6991-42e1-9cfb-90ab4ea65cbb",
     "showTitle": false,
     "tableResultSettingsMap": {},
     "title": ""
    }
   },
   "outputs": [
    {
     "output_type": "stream",
     "name": "stdout",
     "output_type": "stream",
     "text": [
      "root\n |-- employee_id: string (nullable = true)\n |-- department_id: string (nullable = true)\n |-- name: string (nullable = true)\n |-- age: string (nullable = true)\n |-- gender: string (nullable = true)\n |-- salary: string (nullable = true)\n |-- hire_date: string (nullable = true)\n\n"
     ]
    }
   ],
   "source": [
    "emp.printSchema()"
   ]
  },
  {
   "cell_type": "markdown",
   "metadata": {
    "application/vnd.databricks.v1+cell": {
     "cellMetadata": {
      "byteLimit": 2048000,
      "rowLimit": 10000
     },
     "inputWidgets": {},
     "nuid": "c584032d-cb65-4951-b02c-fc1dc5aac32b",
     "showTitle": false,
     "tableResultSettingsMap": {},
     "title": ""
    }
   },
   "source": [
    "## You can also use SQL query if you are not interested in writing DF APIs,\n",
    " ex as below query"
   ]
  },
  {
   "cell_type": "code",
   "execution_count": 0,
   "metadata": {
    "application/vnd.databricks.v1+cell": {
     "cellMetadata": {
      "byteLimit": 2048000,
      "rowLimit": 10000
     },
     "inputWidgets": {},
     "nuid": "dfc7369c-7596-4641-97e5-6ca2b36412a9",
     "showTitle": false,
     "tableResultSettingsMap": {},
     "title": ""
    }
   },
   "outputs": [],
   "source": [
    "#Need to add a column based on gender if gender is male keep M & if gender is female keep F\n",
    "\n",
    "emp_gender_df = emp.withColumn(\"new_gender\", expr(\"CASE WHEN gender == 'Male' then 'M' when gender == 'Female' then 'F' else NULL END\"))"
   ]
  },
  {
   "cell_type": "code",
   "execution_count": 0,
   "metadata": {
    "application/vnd.databricks.v1+cell": {
     "cellMetadata": {
      "byteLimit": 2048000,
      "rowLimit": 10000
     },
     "inputWidgets": {},
     "nuid": "a21f4370-6104-45b2-9d0b-7ef7faad349b",
     "showTitle": false,
     "tableResultSettingsMap": {},
     "title": ""
    }
   },
   "outputs": [
    {
     "output_type": "stream",
     "name": "stdout",
     "output_type": "stream",
     "text": [
      "+-----------+-------------+-------------+---+------+------+----------+----------+\n|employee_id|department_id|         name|age|gender|salary| hire_date|new_gender|\n+-----------+-------------+-------------+---+------+------+----------+----------+\n|        000|          107|    Emily Lee| 26|      | 46000|2019-01-01|      null|\n|        001|          101|     John Doe| 30|  Male| 50000|2015-01-01|         M|\n|        002|          101|   Jane Smith| 25|Female| 45000|2016-02-15|         F|\n|        003|          102|    Bob Brown| 35|  Male| 55000|2014-05-01|         M|\n|        004|          102|    Alice Lee| 28|Female| 48000|2017-09-30|         F|\n|        005|          103|    Jack Chan| 40|  Male| 60000|2013-04-01|         M|\n|        006|          103|    Jill Wong| 32|Female| 52000|2018-07-01|         F|\n|        007|          101|James Johnson| 42|  Male| 70000|2012-03-15|         M|\n|        008|          102|     Kate Kim| 29|Female| 51000|2019-10-01|         F|\n|        009|          103|      Tom Tan| 33|  Male| 58000|2016-06-01|         M|\n|        010|          104|     Lisa Lee| 27|Female| 47000|2018-08-01|         F|\n|        011|          104|   David Park| 38|  Male| 65000|2015-11-01|         M|\n|        012|          105|   Susan Chen| 31|Female| 54000|2017-02-15|         F|\n|        013|          106|    Brian Kim| 45|  Male| 75000|2011-07-01|         M|\n|        014|          107|    Emily Lee| 26|Female| 46000|2019-01-01|         F|\n|        015|          106|  Michael Lee| 37|  Male| 63000|2014-09-30|         M|\n|        016|          107|  Kelly Zhang| 30|Female| 49000|2018-04-01|         F|\n|        017|          105|  George Wang| 34|  Male| 57000|2016-03-15|         M|\n|        018|          104|    Nancy Liu| 29|Female| 50000|2017-06-01|         F|\n|        019|          103|  Steven Chen| 36|  Male| 62000|2015-08-01|         M|\n+-----------+-------------+-------------+---+------+------+----------+----------+\nonly showing top 20 rows\n\n"
     ]
    }
   ],
   "source": [
    "emp_gender_df.show()"
   ]
  },
  {
   "cell_type": "code",
   "execution_count": 0,
   "metadata": {
    "application/vnd.databricks.v1+cell": {
     "cellMetadata": {
      "byteLimit": 2048000,
      "rowLimit": 10000
     },
     "inputWidgets": {},
     "nuid": "0b28b873-ae6f-4485-b4ed-5949c2638018",
     "showTitle": false,
     "tableResultSettingsMap": {},
     "title": ""
    }
   },
   "outputs": [
    {
     "output_type": "stream",
     "name": "stdout",
     "output_type": "stream",
     "text": [
      "+-----------+-------------+-------------+---+------+------+----------+----------+-------------+\n|employee_id|department_id|         name|age|gender|salary| hire_date|new_gender|replaced_name|\n+-----------+-------------+-------------+---+------+------+----------+----------+-------------+\n|        000|          107|    Emily Lee| 26|      | 46000|2019-01-01|      null|    Emily Lee|\n|        001|          101|     John Doe| 30|  Male| 50000|2015-01-01|         M|     Kohn Doe|\n|        002|          101|   Jane Smith| 25|Female| 45000|2016-02-15|         F|   Kane Smith|\n|        003|          102|    Bob Brown| 35|  Male| 55000|2014-05-01|         M|    Bob Brown|\n|        004|          102|    Alice Lee| 28|Female| 48000|2017-09-30|         F|    Alice Lee|\n|        005|          103|    Jack Chan| 40|  Male| 60000|2013-04-01|         M|    Kack Chan|\n|        006|          103|    Jill Wong| 32|Female| 52000|2018-07-01|         F|    Kill Wong|\n|        007|          101|James Johnson| 42|  Male| 70000|2012-03-15|         M|Kames Kohnson|\n|        008|          102|     Kate Kim| 29|Female| 51000|2019-10-01|         F|     Kate Kim|\n|        009|          103|      Tom Tan| 33|  Male| 58000|2016-06-01|         M|      Tom Tan|\n|        010|          104|     Lisa Lee| 27|Female| 47000|2018-08-01|         F|     Lisa Lee|\n|        011|          104|   David Park| 38|  Male| 65000|2015-11-01|         M|   David Park|\n|        012|          105|   Susan Chen| 31|Female| 54000|2017-02-15|         F|   Susan Chen|\n|        013|          106|    Brian Kim| 45|  Male| 75000|2011-07-01|         M|    Brian Kim|\n|        014|          107|    Emily Lee| 26|Female| 46000|2019-01-01|         F|    Emily Lee|\n|        015|          106|  Michael Lee| 37|  Male| 63000|2014-09-30|         M|  Michael Lee|\n|        016|          107|  Kelly Zhang| 30|Female| 49000|2018-04-01|         F|  Kelly Zhang|\n|        017|          105|  George Wang| 34|  Male| 57000|2016-03-15|         M|  George Wang|\n|        018|          104|    Nancy Liu| 29|Female| 50000|2017-06-01|         F|    Nancy Liu|\n|        019|          103|  Steven Chen| 36|  Male| 62000|2015-08-01|         M|  Steven Chen|\n+-----------+-------------+-------------+---+------+------+----------+----------+-------------+\nonly showing top 20 rows\n\n"
     ]
    }
   ],
   "source": [
    "# replacing a letter using regexp_replace method\n",
    "\n",
    "emp_replace = emp_gender_df.withColumn(\"replaced_name\", regexp_replace(\"name\", 'J', 'K')).show()"
   ]
  },
  {
   "cell_type": "markdown",
   "metadata": {
    "application/vnd.databricks.v1+cell": {
     "cellMetadata": {
      "byteLimit": 2048000,
      "rowLimit": 10000
     },
     "inputWidgets": {},
     "nuid": "20eec6e2-223f-49f4-923f-93a602a58119",
     "showTitle": false,
     "tableResultSettingsMap": {},
     "title": ""
    }
   },
   "source": [
    "# DATE FUNCTIONS"
   ]
  },
  {
   "cell_type": "code",
   "execution_count": 0,
   "metadata": {
    "application/vnd.databricks.v1+cell": {
     "cellMetadata": {
      "byteLimit": 2048000,
      "rowLimit": 10000
     },
     "inputWidgets": {},
     "nuid": "ad105940-1801-4d97-8154-353e77f71096",
     "showTitle": false,
     "tableResultSettingsMap": {},
     "title": ""
    }
   },
   "outputs": [
    {
     "output_type": "stream",
     "name": "stdout",
     "output_type": "stream",
     "text": [
      "root\n |-- employee_id: string (nullable = true)\n |-- department_id: string (nullable = true)\n |-- name: string (nullable = true)\n |-- age: string (nullable = true)\n |-- gender: string (nullable = true)\n |-- salary: string (nullable = true)\n |-- hire_date: string (nullable = true)\n\n"
     ]
    }
   ],
   "source": [
    "emp.printSchema()"
   ]
  },
  {
   "cell_type": "code",
   "execution_count": 0,
   "metadata": {
    "application/vnd.databricks.v1+cell": {
     "cellMetadata": {
      "byteLimit": 2048000,
      "rowLimit": 10000
     },
     "inputWidgets": {},
     "nuid": "280a8774-512d-48cb-817a-03a626227153",
     "showTitle": false,
     "tableResultSettingsMap": {},
     "title": ""
    }
   },
   "outputs": [],
   "source": [
    "# converting the hire_date data type to date data type using to_date method\n",
    "\n",
    "emp_date = emp_gender_df.withColumn(\"hire_date\", to_date(\"hire_date\", 'yyyy-mm-dd'))"
   ]
  },
  {
   "cell_type": "code",
   "execution_count": 0,
   "metadata": {
    "application/vnd.databricks.v1+cell": {
     "cellMetadata": {
      "byteLimit": 2048000,
      "rowLimit": 10000
     },
     "inputWidgets": {},
     "nuid": "0664306c-e76a-4199-8f92-df4c616eac1e",
     "showTitle": false,
     "tableResultSettingsMap": {},
     "title": ""
    }
   },
   "outputs": [
    {
     "output_type": "stream",
     "name": "stdout",
     "output_type": "stream",
     "text": [
      "+-----------+-------------+-------------+---+------+------+----------+----------+\n|employee_id|department_id|         name|age|gender|salary| hire_date|new_gender|\n+-----------+-------------+-------------+---+------+------+----------+----------+\n|        000|          107|    Emily Lee| 26|      | 46000|2019-01-01|      null|\n|        001|          101|     John Doe| 30|  Male| 50000|2015-01-01|         M|\n|        002|          101|   Jane Smith| 25|Female| 45000|2016-01-15|         F|\n|        003|          102|    Bob Brown| 35|  Male| 55000|2014-01-01|         M|\n|        004|          102|    Alice Lee| 28|Female| 48000|2017-01-30|         F|\n|        005|          103|    Jack Chan| 40|  Male| 60000|2013-01-01|         M|\n|        006|          103|    Jill Wong| 32|Female| 52000|2018-01-01|         F|\n|        007|          101|James Johnson| 42|  Male| 70000|2012-01-15|         M|\n|        008|          102|     Kate Kim| 29|Female| 51000|2019-01-01|         F|\n|        009|          103|      Tom Tan| 33|  Male| 58000|2016-01-01|         M|\n|        010|          104|     Lisa Lee| 27|Female| 47000|2018-01-01|         F|\n|        011|          104|   David Park| 38|  Male| 65000|2015-01-01|         M|\n|        012|          105|   Susan Chen| 31|Female| 54000|2017-01-15|         F|\n|        013|          106|    Brian Kim| 45|  Male| 75000|2011-01-01|         M|\n|        014|          107|    Emily Lee| 26|Female| 46000|2019-01-01|         F|\n|        015|          106|  Michael Lee| 37|  Male| 63000|2014-01-30|         M|\n|        016|          107|  Kelly Zhang| 30|Female| 49000|2018-01-01|         F|\n|        017|          105|  George Wang| 34|  Male| 57000|2016-01-15|         M|\n|        018|          104|    Nancy Liu| 29|Female| 50000|2017-01-01|         F|\n|        019|          103|  Steven Chen| 36|  Male| 62000|2015-01-01|         M|\n+-----------+-------------+-------------+---+------+------+----------+----------+\nonly showing top 20 rows\n\n"
     ]
    }
   ],
   "source": [
    "emp_date.show()"
   ]
  },
  {
   "cell_type": "code",
   "execution_count": 0,
   "metadata": {
    "application/vnd.databricks.v1+cell": {
     "cellMetadata": {
      "byteLimit": 2048000,
      "rowLimit": 10000
     },
     "inputWidgets": {},
     "nuid": "81d58f42-ec13-437c-a07c-f00663cfe3d9",
     "showTitle": false,
     "tableResultSettingsMap": {},
     "title": ""
    }
   },
   "outputs": [
    {
     "output_type": "stream",
     "name": "stdout",
     "output_type": "stream",
     "text": [
      "root\n |-- employee_id: string (nullable = true)\n |-- department_id: string (nullable = true)\n |-- name: string (nullable = true)\n |-- age: string (nullable = true)\n |-- gender: string (nullable = true)\n |-- salary: string (nullable = true)\n |-- hire_date: date (nullable = true)\n |-- new_gender: string (nullable = true)\n\n"
     ]
    }
   ],
   "source": [
    "emp_date.printSchema()"
   ]
  },
  {
   "cell_type": "markdown",
   "metadata": {
    "application/vnd.databricks.v1+cell": {
     "cellMetadata": {
      "byteLimit": 2048000,
      "rowLimit": 10000
     },
     "inputWidgets": {},
     "nuid": "6b972e60-be87-4082-8d6c-8f18e8a5a566",
     "showTitle": false,
     "tableResultSettingsMap": {},
     "title": ""
    }
   },
   "source": [
    "# Current Date & Timestamp"
   ]
  },
  {
   "cell_type": "code",
   "execution_count": 0,
   "metadata": {
    "application/vnd.databricks.v1+cell": {
     "cellMetadata": {
      "byteLimit": 2048000,
      "rowLimit": 10000
     },
     "inputWidgets": {},
     "nuid": "69e5f0b0-7c30-4f3c-b9d1-d613ccfb9efd",
     "showTitle": false,
     "tableResultSettingsMap": {},
     "title": ""
    }
   },
   "outputs": [],
   "source": [
    "emp_date_time = emp_date.withColumn(\"Date_now\", current_date()).withColumn(\"Time_now\", current_timestamp())"
   ]
  },
  {
   "cell_type": "code",
   "execution_count": 0,
   "metadata": {
    "application/vnd.databricks.v1+cell": {
     "cellMetadata": {
      "byteLimit": 2048000,
      "rowLimit": 10000
     },
     "inputWidgets": {},
     "nuid": "a4eab344-160f-46bf-b5f8-386dd154e47d",
     "showTitle": false,
     "tableResultSettingsMap": {},
     "title": ""
    }
   },
   "outputs": [
    {
     "output_type": "stream",
     "name": "stdout",
     "output_type": "stream",
     "text": [
      "+-----------+-------------+-------------+---+------+------+----------+----------+----------+--------------------+\n|employee_id|department_id|         name|age|gender|salary| hire_date|new_gender|  Date_now|            Time_now|\n+-----------+-------------+-------------+---+------+------+----------+----------+----------+--------------------+\n|        000|          107|    Emily Lee| 26|      | 46000|2019-01-01|      null|2025-04-04|2025-04-04 11:06:...|\n|        001|          101|     John Doe| 30|  Male| 50000|2015-01-01|         M|2025-04-04|2025-04-04 11:06:...|\n|        002|          101|   Jane Smith| 25|Female| 45000|2016-01-15|         F|2025-04-04|2025-04-04 11:06:...|\n|        003|          102|    Bob Brown| 35|  Male| 55000|2014-01-01|         M|2025-04-04|2025-04-04 11:06:...|\n|        004|          102|    Alice Lee| 28|Female| 48000|2017-01-30|         F|2025-04-04|2025-04-04 11:06:...|\n|        005|          103|    Jack Chan| 40|  Male| 60000|2013-01-01|         M|2025-04-04|2025-04-04 11:06:...|\n|        006|          103|    Jill Wong| 32|Female| 52000|2018-01-01|         F|2025-04-04|2025-04-04 11:06:...|\n|        007|          101|James Johnson| 42|  Male| 70000|2012-01-15|         M|2025-04-04|2025-04-04 11:06:...|\n|        008|          102|     Kate Kim| 29|Female| 51000|2019-01-01|         F|2025-04-04|2025-04-04 11:06:...|\n|        009|          103|      Tom Tan| 33|  Male| 58000|2016-01-01|         M|2025-04-04|2025-04-04 11:06:...|\n|        010|          104|     Lisa Lee| 27|Female| 47000|2018-01-01|         F|2025-04-04|2025-04-04 11:06:...|\n|        011|          104|   David Park| 38|  Male| 65000|2015-01-01|         M|2025-04-04|2025-04-04 11:06:...|\n|        012|          105|   Susan Chen| 31|Female| 54000|2017-01-15|         F|2025-04-04|2025-04-04 11:06:...|\n|        013|          106|    Brian Kim| 45|  Male| 75000|2011-01-01|         M|2025-04-04|2025-04-04 11:06:...|\n|        014|          107|    Emily Lee| 26|Female| 46000|2019-01-01|         F|2025-04-04|2025-04-04 11:06:...|\n|        015|          106|  Michael Lee| 37|  Male| 63000|2014-01-30|         M|2025-04-04|2025-04-04 11:06:...|\n|        016|          107|  Kelly Zhang| 30|Female| 49000|2018-01-01|         F|2025-04-04|2025-04-04 11:06:...|\n|        017|          105|  George Wang| 34|  Male| 57000|2016-01-15|         M|2025-04-04|2025-04-04 11:06:...|\n|        018|          104|    Nancy Liu| 29|Female| 50000|2017-01-01|         F|2025-04-04|2025-04-04 11:06:...|\n|        019|          103|  Steven Chen| 36|  Male| 62000|2015-01-01|         M|2025-04-04|2025-04-04 11:06:...|\n+-----------+-------------+-------------+---+------+------+----------+----------+----------+--------------------+\nonly showing top 20 rows\n\n+-----------+-------------+-------------+---+------+------+----------+----------+----------+-----------------------+\n|employee_id|department_id|name         |age|gender|salary|hire_date |new_gender|Date_now  |Time_now               |\n+-----------+-------------+-------------+---+------+------+----------+----------+----------+-----------------------+\n|000        |107          |Emily Lee    |26 |      |46000 |2019-01-01|null      |2025-04-04|2025-04-04 11:06:41.844|\n|001        |101          |John Doe     |30 |Male  |50000 |2015-01-01|M         |2025-04-04|2025-04-04 11:06:41.844|\n|002        |101          |Jane Smith   |25 |Female|45000 |2016-01-15|F         |2025-04-04|2025-04-04 11:06:41.844|\n|003        |102          |Bob Brown    |35 |Male  |55000 |2014-01-01|M         |2025-04-04|2025-04-04 11:06:41.844|\n|004        |102          |Alice Lee    |28 |Female|48000 |2017-01-30|F         |2025-04-04|2025-04-04 11:06:41.844|\n|005        |103          |Jack Chan    |40 |Male  |60000 |2013-01-01|M         |2025-04-04|2025-04-04 11:06:41.844|\n|006        |103          |Jill Wong    |32 |Female|52000 |2018-01-01|F         |2025-04-04|2025-04-04 11:06:41.844|\n|007        |101          |James Johnson|42 |Male  |70000 |2012-01-15|M         |2025-04-04|2025-04-04 11:06:41.844|\n|008        |102          |Kate Kim     |29 |Female|51000 |2019-01-01|F         |2025-04-04|2025-04-04 11:06:41.844|\n|009        |103          |Tom Tan      |33 |Male  |58000 |2016-01-01|M         |2025-04-04|2025-04-04 11:06:41.844|\n|010        |104          |Lisa Lee     |27 |Female|47000 |2018-01-01|F         |2025-04-04|2025-04-04 11:06:41.844|\n|011        |104          |David Park   |38 |Male  |65000 |2015-01-01|M         |2025-04-04|2025-04-04 11:06:41.844|\n|012        |105          |Susan Chen   |31 |Female|54000 |2017-01-15|F         |2025-04-04|2025-04-04 11:06:41.844|\n|013        |106          |Brian Kim    |45 |Male  |75000 |2011-01-01|M         |2025-04-04|2025-04-04 11:06:41.844|\n|014        |107          |Emily Lee    |26 |Female|46000 |2019-01-01|F         |2025-04-04|2025-04-04 11:06:41.844|\n|015        |106          |Michael Lee  |37 |Male  |63000 |2014-01-30|M         |2025-04-04|2025-04-04 11:06:41.844|\n|016        |107          |Kelly Zhang  |30 |Female|49000 |2018-01-01|F         |2025-04-04|2025-04-04 11:06:41.844|\n|017        |105          |George Wang  |34 |Male  |57000 |2016-01-15|M         |2025-04-04|2025-04-04 11:06:41.844|\n|018        |104          |Nancy Liu    |29 |Female|50000 |2017-01-01|F         |2025-04-04|2025-04-04 11:06:41.844|\n|019        |103          |Steven Chen  |36 |Male  |62000 |2015-01-01|M         |2025-04-04|2025-04-04 11:06:41.844|\n+-----------+-------------+-------------+---+------+------+----------+----------+----------+-----------------------+\nonly showing top 20 rows\n\n"
     ]
    }
   ],
   "source": [
    "emp_date_time.show()\n",
    "# by using truncate = false the o/p with will be shown correctly without compacting.\n",
    "emp_date_time.show(truncate = False)"
   ]
  },
  {
   "cell_type": "markdown",
   "metadata": {
    "application/vnd.databricks.v1+cell": {
     "cellMetadata": {},
     "inputWidgets": {},
     "nuid": "9a168067-99e2-48f9-b126-3a1a53faad3e",
     "showTitle": false,
     "tableResultSettingsMap": {},
     "title": ""
    }
   },
   "source": [
    "# Drop Null records"
   ]
  },
  {
   "cell_type": "code",
   "execution_count": 0,
   "metadata": {
    "application/vnd.databricks.v1+cell": {
     "cellMetadata": {
      "byteLimit": 2048000,
      "rowLimit": 10000
     },
     "inputWidgets": {},
     "nuid": "11307b66-3a61-4b0d-921b-cbc8c594daea",
     "showTitle": false,
     "tableResultSettingsMap": {},
     "title": ""
    }
   },
   "outputs": [],
   "source": [
    "emp_1 = emp_date_time.na.drop()"
   ]
  },
  {
   "cell_type": "code",
   "execution_count": 0,
   "metadata": {
    "application/vnd.databricks.v1+cell": {
     "cellMetadata": {
      "byteLimit": 2048000,
      "rowLimit": 10000
     },
     "inputWidgets": {},
     "nuid": "4b9bcb5c-192c-4953-a0f1-0438ec9f7b32",
     "showTitle": false,
     "tableResultSettingsMap": {},
     "title": ""
    }
   },
   "outputs": [
    {
     "output_type": "stream",
     "name": "stdout",
     "output_type": "stream",
     "text": [
      "+-----------+-------------+-------------+---+------+------+----------+----------+----------+--------------------+\n|employee_id|department_id|         name|age|gender|salary| hire_date|new_gender|  Date_now|            Time_now|\n+-----------+-------------+-------------+---+------+------+----------+----------+----------+--------------------+\n|        001|          101|     John Doe| 30|  Male| 50000|2015-01-01|         M|2025-04-04|2025-04-04 10:54:...|\n|        002|          101|   Jane Smith| 25|Female| 45000|2016-01-15|         F|2025-04-04|2025-04-04 10:54:...|\n|        003|          102|    Bob Brown| 35|  Male| 55000|2014-01-01|         M|2025-04-04|2025-04-04 10:54:...|\n|        004|          102|    Alice Lee| 28|Female| 48000|2017-01-30|         F|2025-04-04|2025-04-04 10:54:...|\n|        005|          103|    Jack Chan| 40|  Male| 60000|2013-01-01|         M|2025-04-04|2025-04-04 10:54:...|\n|        006|          103|    Jill Wong| 32|Female| 52000|2018-01-01|         F|2025-04-04|2025-04-04 10:54:...|\n|        007|          101|James Johnson| 42|  Male| 70000|2012-01-15|         M|2025-04-04|2025-04-04 10:54:...|\n|        008|          102|     Kate Kim| 29|Female| 51000|2019-01-01|         F|2025-04-04|2025-04-04 10:54:...|\n|        009|          103|      Tom Tan| 33|  Male| 58000|2016-01-01|         M|2025-04-04|2025-04-04 10:54:...|\n|        010|          104|     Lisa Lee| 27|Female| 47000|2018-01-01|         F|2025-04-04|2025-04-04 10:54:...|\n|        011|          104|   David Park| 38|  Male| 65000|2015-01-01|         M|2025-04-04|2025-04-04 10:54:...|\n|        012|          105|   Susan Chen| 31|Female| 54000|2017-01-15|         F|2025-04-04|2025-04-04 10:54:...|\n|        013|          106|    Brian Kim| 45|  Male| 75000|2011-01-01|         M|2025-04-04|2025-04-04 10:54:...|\n|        014|          107|    Emily Lee| 26|Female| 46000|2019-01-01|         F|2025-04-04|2025-04-04 10:54:...|\n|        015|          106|  Michael Lee| 37|  Male| 63000|2014-01-30|         M|2025-04-04|2025-04-04 10:54:...|\n|        016|          107|  Kelly Zhang| 30|Female| 49000|2018-01-01|         F|2025-04-04|2025-04-04 10:54:...|\n|        017|          105|  George Wang| 34|  Male| 57000|2016-01-15|         M|2025-04-04|2025-04-04 10:54:...|\n|        018|          104|    Nancy Liu| 29|Female| 50000|2017-01-01|         F|2025-04-04|2025-04-04 10:54:...|\n|        019|          103|  Steven Chen| 36|  Male| 62000|2015-01-01|         M|2025-04-04|2025-04-04 10:54:...|\n|        020|          102|    Grace Kim| 32|Female| 53000|2018-01-01|         F|2025-04-04|2025-04-04 10:54:...|\n+-----------+-------------+-------------+---+------+------+----------+----------+----------+--------------------+\n\n"
     ]
    }
   ],
   "source": [
    "emp_1.show()"
   ]
  },
  {
   "cell_type": "markdown",
   "metadata": {
    "application/vnd.databricks.v1+cell": {
     "cellMetadata": {},
     "inputWidgets": {},
     "nuid": "a3602c5c-64b4-414f-b404-a235a24d98b7",
     "showTitle": false,
     "tableResultSettingsMap": {},
     "title": ""
    }
   },
   "source": [
    "## In production scenarios dropping a null records is a bad habit so we have to replace a null with the other values"
   ]
  },
  {
   "cell_type": "code",
   "execution_count": 0,
   "metadata": {
    "application/vnd.databricks.v1+cell": {
     "cellMetadata": {
      "byteLimit": 2048000,
      "rowLimit": 10000
     },
     "inputWidgets": {},
     "nuid": "6d2444a6-3829-4f45-a8b0-57fb039b6dc0",
     "showTitle": false,
     "tableResultSettingsMap": {},
     "title": ""
    }
   },
   "outputs": [],
   "source": [
    "emp_2 = emp_date_time.withColumn(\"new_gender\", coalesce(\"new_gender\", lit('O')))"
   ]
  },
  {
   "cell_type": "code",
   "execution_count": 0,
   "metadata": {
    "application/vnd.databricks.v1+cell": {
     "cellMetadata": {
      "byteLimit": 2048000,
      "rowLimit": 10000
     },
     "inputWidgets": {},
     "nuid": "a717c54a-58ef-494e-af0f-837235e35ab2",
     "showTitle": false,
     "tableResultSettingsMap": {},
     "title": ""
    }
   },
   "outputs": [
    {
     "output_type": "stream",
     "name": "stdout",
     "output_type": "stream",
     "text": [
      "+-----------+-------------+-------------+---+------+------+----------+----------+----------+--------------------+\n|employee_id|department_id|         name|age|gender|salary| hire_date|new_gender|  Date_now|            Time_now|\n+-----------+-------------+-------------+---+------+------+----------+----------+----------+--------------------+\n|        000|          107|    Emily Lee| 26|      | 46000|2019-01-01|         O|2025-04-04|2025-04-04 11:00:...|\n|        001|          101|     John Doe| 30|  Male| 50000|2015-01-01|         M|2025-04-04|2025-04-04 11:00:...|\n|        002|          101|   Jane Smith| 25|Female| 45000|2016-01-15|         F|2025-04-04|2025-04-04 11:00:...|\n|        003|          102|    Bob Brown| 35|  Male| 55000|2014-01-01|         M|2025-04-04|2025-04-04 11:00:...|\n|        004|          102|    Alice Lee| 28|Female| 48000|2017-01-30|         F|2025-04-04|2025-04-04 11:00:...|\n|        005|          103|    Jack Chan| 40|  Male| 60000|2013-01-01|         M|2025-04-04|2025-04-04 11:00:...|\n|        006|          103|    Jill Wong| 32|Female| 52000|2018-01-01|         F|2025-04-04|2025-04-04 11:00:...|\n|        007|          101|James Johnson| 42|  Male| 70000|2012-01-15|         M|2025-04-04|2025-04-04 11:00:...|\n|        008|          102|     Kate Kim| 29|Female| 51000|2019-01-01|         F|2025-04-04|2025-04-04 11:00:...|\n|        009|          103|      Tom Tan| 33|  Male| 58000|2016-01-01|         M|2025-04-04|2025-04-04 11:00:...|\n|        010|          104|     Lisa Lee| 27|Female| 47000|2018-01-01|         F|2025-04-04|2025-04-04 11:00:...|\n|        011|          104|   David Park| 38|  Male| 65000|2015-01-01|         M|2025-04-04|2025-04-04 11:00:...|\n|        012|          105|   Susan Chen| 31|Female| 54000|2017-01-15|         F|2025-04-04|2025-04-04 11:00:...|\n|        013|          106|    Brian Kim| 45|  Male| 75000|2011-01-01|         M|2025-04-04|2025-04-04 11:00:...|\n|        014|          107|    Emily Lee| 26|Female| 46000|2019-01-01|         F|2025-04-04|2025-04-04 11:00:...|\n|        015|          106|  Michael Lee| 37|  Male| 63000|2014-01-30|         M|2025-04-04|2025-04-04 11:00:...|\n|        016|          107|  Kelly Zhang| 30|Female| 49000|2018-01-01|         F|2025-04-04|2025-04-04 11:00:...|\n|        017|          105|  George Wang| 34|  Male| 57000|2016-01-15|         M|2025-04-04|2025-04-04 11:00:...|\n|        018|          104|    Nancy Liu| 29|Female| 50000|2017-01-01|         F|2025-04-04|2025-04-04 11:00:...|\n|        019|          103|  Steven Chen| 36|  Male| 62000|2015-01-01|         M|2025-04-04|2025-04-04 11:00:...|\n+-----------+-------------+-------------+---+------+------+----------+----------+----------+--------------------+\nonly showing top 20 rows\n\n"
     ]
    }
   ],
   "source": [
    "emp_2.show()"
   ]
  },
  {
   "cell_type": "code",
   "execution_count": 0,
   "metadata": {
    "application/vnd.databricks.v1+cell": {
     "cellMetadata": {
      "byteLimit": 2048000,
      "rowLimit": 10000
     },
     "inputWidgets": {},
     "nuid": "ca30d018-1c30-4a36-93f6-cb284a065766",
     "showTitle": false,
     "tableResultSettingsMap": {},
     "title": ""
    }
   },
   "outputs": [],
   "source": [
    "#dropping old columns and renaming the columns\n",
    "\n",
    "emp_final = emp_2.drop(\"gender\").withColumnRenamed(\"new_gender\",\"gender\")"
   ]
  },
  {
   "cell_type": "code",
   "execution_count": 0,
   "metadata": {
    "application/vnd.databricks.v1+cell": {
     "cellMetadata": {
      "byteLimit": 2048000,
      "rowLimit": 10000
     },
     "inputWidgets": {},
     "nuid": "f483b22f-ea6f-4931-b344-1e6264d931ce",
     "showTitle": false,
     "tableResultSettingsMap": {},
     "title": ""
    }
   },
   "outputs": [
    {
     "output_type": "stream",
     "name": "stdout",
     "output_type": "stream",
     "text": [
      "+-----------+-------------+-------------+---+------+----------+------+----------+--------------------+\n|employee_id|department_id|         name|age|salary| hire_date|gender|  Date_now|            Time_now|\n+-----------+-------------+-------------+---+------+----------+------+----------+--------------------+\n|        000|          107|    Emily Lee| 26| 46000|2019-01-01|     O|2025-04-04|2025-04-04 11:06:...|\n|        001|          101|     John Doe| 30| 50000|2015-01-01|     M|2025-04-04|2025-04-04 11:06:...|\n|        002|          101|   Jane Smith| 25| 45000|2016-01-15|     F|2025-04-04|2025-04-04 11:06:...|\n|        003|          102|    Bob Brown| 35| 55000|2014-01-01|     M|2025-04-04|2025-04-04 11:06:...|\n|        004|          102|    Alice Lee| 28| 48000|2017-01-30|     F|2025-04-04|2025-04-04 11:06:...|\n|        005|          103|    Jack Chan| 40| 60000|2013-01-01|     M|2025-04-04|2025-04-04 11:06:...|\n|        006|          103|    Jill Wong| 32| 52000|2018-01-01|     F|2025-04-04|2025-04-04 11:06:...|\n|        007|          101|James Johnson| 42| 70000|2012-01-15|     M|2025-04-04|2025-04-04 11:06:...|\n|        008|          102|     Kate Kim| 29| 51000|2019-01-01|     F|2025-04-04|2025-04-04 11:06:...|\n|        009|          103|      Tom Tan| 33| 58000|2016-01-01|     M|2025-04-04|2025-04-04 11:06:...|\n|        010|          104|     Lisa Lee| 27| 47000|2018-01-01|     F|2025-04-04|2025-04-04 11:06:...|\n|        011|          104|   David Park| 38| 65000|2015-01-01|     M|2025-04-04|2025-04-04 11:06:...|\n|        012|          105|   Susan Chen| 31| 54000|2017-01-15|     F|2025-04-04|2025-04-04 11:06:...|\n|        013|          106|    Brian Kim| 45| 75000|2011-01-01|     M|2025-04-04|2025-04-04 11:06:...|\n|        014|          107|    Emily Lee| 26| 46000|2019-01-01|     F|2025-04-04|2025-04-04 11:06:...|\n|        015|          106|  Michael Lee| 37| 63000|2014-01-30|     M|2025-04-04|2025-04-04 11:06:...|\n|        016|          107|  Kelly Zhang| 30| 49000|2018-01-01|     F|2025-04-04|2025-04-04 11:06:...|\n|        017|          105|  George Wang| 34| 57000|2016-01-15|     M|2025-04-04|2025-04-04 11:06:...|\n|        018|          104|    Nancy Liu| 29| 50000|2017-01-01|     F|2025-04-04|2025-04-04 11:06:...|\n|        019|          103|  Steven Chen| 36| 62000|2015-01-01|     M|2025-04-04|2025-04-04 11:06:...|\n+-----------+-------------+-------------+---+------+----------+------+----------+--------------------+\nonly showing top 20 rows\n\n"
     ]
    }
   ],
   "source": [
    "emp_final.show()"
   ]
  },
  {
   "cell_type": "code",
   "execution_count": 0,
   "metadata": {
    "application/vnd.databricks.v1+cell": {
     "cellMetadata": {
      "byteLimit": 2048000,
      "rowLimit": 10000
     },
     "inputWidgets": {},
     "nuid": "1ece8ae7-3440-4703-810f-d84ff60e04c4",
     "showTitle": false,
     "tableResultSettingsMap": {},
     "title": ""
    }
   },
   "outputs": [],
   "source": [
    "emp_final.write.format(\"csv\").save(\"dbfs:/FileStore/tables/Strings\")"
   ]
  }
 ],
 "metadata": {
  "application/vnd.databricks.v1+notebook": {
   "computePreferences": null,
   "dashboards": [],
   "environmentMetadata": {
    "base_environment": "",
    "environment_version": "1"
   },
   "inputWidgetPreferences": null,
   "language": "python",
   "notebookMetadata": {
    "pythonIndentUnit": 4
   },
   "notebookName": "4- Strings & Date functions",
   "widgets": {}
  }
 },
 "nbformat": 4,
 "nbformat_minor": 0
}