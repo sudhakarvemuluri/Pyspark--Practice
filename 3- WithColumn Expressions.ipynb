{
 "cells": [
  {
   "cell_type": "code",
   "execution_count": 0,
   "metadata": {
    "application/vnd.databricks.v1+cell": {
     "cellMetadata": {
      "byteLimit": 2048000,
      "rowLimit": 10000
     },
     "inputWidgets": {},
     "nuid": "a191bda7-c0f3-438f-a32b-7a00a9ec5fcd",
     "showTitle": false,
     "tableResultSettingsMap": {},
     "title": ""
    }
   },
   "outputs": [],
   "source": [
    "from pyspark.sql import SparkSession\n",
    "from pyspark.sql.functions import *\n",
    "from pyspark import SparkConf, SparkContext\n",
    "\n",
    "\n",
    "spark = SparkSession.builder.master(\"local[*]\").appName(\"WithColumn\").getOrCreate()"
   ]
  },
  {
   "cell_type": "code",
   "execution_count": 0,
   "metadata": {
    "application/vnd.databricks.v1+cell": {
     "cellMetadata": {
      "byteLimit": 2048000,
      "rowLimit": 10000
     },
     "inputWidgets": {},
     "nuid": "55ca5c72-4cac-43da-af88-f157b3f44ace",
     "showTitle": false,
     "tableResultSettingsMap": {},
     "title": ""
    }
   },
   "outputs": [
    {
     "output_type": "display_data",
     "data": {
      "text/html": [
       "\n",
       "            <div>\n",
       "                <p><b>SparkSession - hive</b></p>\n",
       "                \n",
       "        <div>\n",
       "            <p><b>SparkContext</b></p>\n",
       "\n",
       "            <p><a href=\"/?o=1712464757339678#setting/sparkui/0403-104614-rxcymxpi/driver-2117941196271205213\">Spark UI</a></p>\n",
       "\n",
       "            <dl>\n",
       "              <dt>Version</dt>\n",
       "                <dd><code>v3.3.2</code></dd>\n",
       "              <dt>Master</dt>\n",
       "                <dd><code>local[8]</code></dd>\n",
       "              <dt>AppName</dt>\n",
       "                <dd><code>Databricks Shell</code></dd>\n",
       "            </dl>\n",
       "        </div>\n",
       "        \n",
       "            </div>\n",
       "        "
      ]
     },
     "metadata": {
      "application/vnd.databricks.v1+output": {
       "addedWidgets": {},
       "arguments": {},
       "data": "\n            <div>\n                <p><b>SparkSession - hive</b></p>\n                \n        <div>\n            <p><b>SparkContext</b></p>\n\n            <p><a href=\"/?o=1712464757339678#setting/sparkui/0403-104614-rxcymxpi/driver-2117941196271205213\">Spark UI</a></p>\n\n            <dl>\n              <dt>Version</dt>\n                <dd><code>v3.3.2</code></dd>\n              <dt>Master</dt>\n                <dd><code>local[8]</code></dd>\n              <dt>AppName</dt>\n                <dd><code>Databricks Shell</code></dd>\n            </dl>\n        </div>\n        \n            </div>\n        ",
       "datasetInfos": [],
       "metadata": {},
       "removedWidgets": [],
       "textData": null,
       "type": "htmlSandbox"
      }
     },
     "output_type": "display_data"
    }
   ],
   "source": [
    "spark"
   ]
  },
  {
   "cell_type": "code",
   "execution_count": 0,
   "metadata": {
    "application/vnd.databricks.v1+cell": {
     "cellMetadata": {
      "byteLimit": 2048000,
      "rowLimit": 10000
     },
     "inputWidgets": {},
     "nuid": "78eb1e3f-10f3-4982-bfdd-fce202231eac",
     "showTitle": false,
     "tableResultSettingsMap": {},
     "title": ""
    }
   },
   "outputs": [],
   "source": [
    "emp_data = [\n",
    "    [\"001\", \"101\", \"John Doe\", 30, \"Male\", 50000, \"2015-01-01\"],\n",
    "    [\"002\", \"101\", \"Jane Smith\", 25, \"Female\", 45000, \"2016-02-15\"],\n",
    "    [\"003\", \"102\", \"Bob Brown\", 35, \"Male\", 55000, \"2014-05-01\"],\n",
    "    [\"004\", \"102\", \"Alice Lee\", 28, \"Female\", 48000, \"2017-09-30\"],\n",
    "    [\"005\", \"103\", \"Jack Chan\", 40, \"Male\", 60000, \"2013-04-01\"],\n",
    "    [\"006\", \"103\", \"Jill Wong\", 32, \"Female\", 52000, \"2018-07-01\"],\n",
    "    [\"007\", \"101\", \"James Johnson\", 42, \"Male\", 70000, \"2012-03-15\"],\n",
    "    [\"008\", \"102\", \"Kate Kim\", 29, \"Female\", 51000, \"2019-10-01\"],\n",
    "    [\"009\", \"103\", \"Tom Tan\", 33, \"Male\", 58000, \"2016-06-01\"],\n",
    "    [\"010\", \"104\", \"Lisa Lee\", 27, \"Female\", 47000, \"2018-08-01\"],\n",
    "    [\"011\", \"104\", \"David Park\", 38, \"Male\", 65000, \"2015-11-01\"],\n",
    "    [\"012\", \"105\", \"Susan Chen\", 31, \"Female\", 54000, \"2017-02-15\"],\n",
    "    [\"013\", \"106\", \"Brian Kim\", 45, \"Male\", 75000, \"2011-07-01\"],\n",
    "    [\"014\", \"107\", \"Emily Lee\", 26, \"Female\", 46000, \"2019-01-01\"],\n",
    "    [\"015\", \"106\", \"Michael Lee\", 37, \"Male\", 63000, \"2014-09-30\"],\n",
    "    [\"016\", \"107\", \"Kelly Zhang\", 30, \"Female\", 49000, \"2018-04-01\"],\n",
    "    [\"017\", \"105\", \"George Wang\", 34, \"Male\", 57000, \"2016-03-15\"],\n",
    "    [\"018\", \"104\", \"Nancy Liu\", 29, \"Female\", 50000, \"2017-06-01\"],\n",
    "    [\"019\", \"103\", \"Steven Chen\", 36, \"Male\", 62000, \"2015-08-01\"],\n",
    "    [\"020\", \"102\", \"Grace Kim\", 32, \"Female\", 53000, \"2018-11-01\"],\n",
    "]\n",
    "\n",
    "emp_schema = \"employee_id string, department_id string, name string, age string, gender string, salary string, hire_date string\""
   ]
  },
  {
   "cell_type": "code",
   "execution_count": 0,
   "metadata": {
    "application/vnd.databricks.v1+cell": {
     "cellMetadata": {
      "byteLimit": 2048000,
      "rowLimit": 10000
     },
     "inputWidgets": {},
     "nuid": "84ad8d2b-185c-431b-a432-93ed18d51b1b",
     "showTitle": false,
     "tableResultSettingsMap": {},
     "title": ""
    }
   },
   "outputs": [],
   "source": [
    "emp = spark.createDataFrame(emp_data, schema = emp_schema)"
   ]
  },
  {
   "cell_type": "code",
   "execution_count": 0,
   "metadata": {
    "application/vnd.databricks.v1+cell": {
     "cellMetadata": {
      "byteLimit": 2048000,
      "rowLimit": 10000
     },
     "inputWidgets": {},
     "nuid": "57e117a0-8cfc-4641-a646-1b2f3fcb2f56",
     "showTitle": false,
     "tableResultSettingsMap": {},
     "title": ""
    }
   },
   "outputs": [
    {
     "output_type": "stream",
     "name": "stdout",
     "output_type": "stream",
     "text": [
      "+-----------+-------------+-------------+---+------+------+----------+\n|employee_id|department_id|         name|age|gender|salary| hire_date|\n+-----------+-------------+-------------+---+------+------+----------+\n|        001|          101|     John Doe| 30|  Male| 50000|2015-01-01|\n|        002|          101|   Jane Smith| 25|Female| 45000|2016-02-15|\n|        003|          102|    Bob Brown| 35|  Male| 55000|2014-05-01|\n|        004|          102|    Alice Lee| 28|Female| 48000|2017-09-30|\n|        005|          103|    Jack Chan| 40|  Male| 60000|2013-04-01|\n|        006|          103|    Jill Wong| 32|Female| 52000|2018-07-01|\n|        007|          101|James Johnson| 42|  Male| 70000|2012-03-15|\n|        008|          102|     Kate Kim| 29|Female| 51000|2019-10-01|\n|        009|          103|      Tom Tan| 33|  Male| 58000|2016-06-01|\n|        010|          104|     Lisa Lee| 27|Female| 47000|2018-08-01|\n|        011|          104|   David Park| 38|  Male| 65000|2015-11-01|\n|        012|          105|   Susan Chen| 31|Female| 54000|2017-02-15|\n|        013|          106|    Brian Kim| 45|  Male| 75000|2011-07-01|\n|        014|          107|    Emily Lee| 26|Female| 46000|2019-01-01|\n|        015|          106|  Michael Lee| 37|  Male| 63000|2014-09-30|\n|        016|          107|  Kelly Zhang| 30|Female| 49000|2018-04-01|\n|        017|          105|  George Wang| 34|  Male| 57000|2016-03-15|\n|        018|          104|    Nancy Liu| 29|Female| 50000|2017-06-01|\n|        019|          103|  Steven Chen| 36|  Male| 62000|2015-08-01|\n|        020|          102|    Grace Kim| 32|Female| 53000|2018-11-01|\n+-----------+-------------+-------------+---+------+------+----------+\n\n"
     ]
    }
   ],
   "source": [
    "emp.show()"
   ]
  },
  {
   "cell_type": "code",
   "execution_count": 0,
   "metadata": {
    "application/vnd.databricks.v1+cell": {
     "cellMetadata": {
      "byteLimit": 2048000,
      "rowLimit": 10000
     },
     "inputWidgets": {},
     "nuid": "a4f0bdf4-1d3a-4871-a3c6-3b451ddbf4f6",
     "showTitle": false,
     "tableResultSettingsMap": {},
     "title": ""
    }
   },
   "outputs": [],
   "source": [
    "# casting into double for salary column\n",
    "\n",
    "emp_casted = emp.select(\"employee_id\",\"name\",\"age\",expr(\"cast(salary as double)as salary\"))"
   ]
  },
  {
   "cell_type": "code",
   "execution_count": 0,
   "metadata": {
    "application/vnd.databricks.v1+cell": {
     "cellMetadata": {
      "byteLimit": 2048000,
      "rowLimit": 10000
     },
     "inputWidgets": {},
     "nuid": "09438b68-496e-41ff-9430-4168c1561c30",
     "showTitle": false,
     "tableResultSettingsMap": {},
     "title": ""
    }
   },
   "outputs": [
    {
     "output_type": "stream",
     "name": "stdout",
     "output_type": "stream",
     "text": [
      "+-----------+-------------+---+-------+\n|employee_id|         name|age| salary|\n+-----------+-------------+---+-------+\n|        001|     John Doe| 30|50000.0|\n|        002|   Jane Smith| 25|45000.0|\n|        003|    Bob Brown| 35|55000.0|\n|        004|    Alice Lee| 28|48000.0|\n|        005|    Jack Chan| 40|60000.0|\n|        006|    Jill Wong| 32|52000.0|\n|        007|James Johnson| 42|70000.0|\n|        008|     Kate Kim| 29|51000.0|\n|        009|      Tom Tan| 33|58000.0|\n|        010|     Lisa Lee| 27|47000.0|\n|        011|   David Park| 38|65000.0|\n|        012|   Susan Chen| 31|54000.0|\n|        013|    Brian Kim| 45|75000.0|\n|        014|    Emily Lee| 26|46000.0|\n|        015|  Michael Lee| 37|63000.0|\n|        016|  Kelly Zhang| 30|49000.0|\n|        017|  George Wang| 34|57000.0|\n|        018|    Nancy Liu| 29|50000.0|\n|        019|  Steven Chen| 36|62000.0|\n|        020|    Grace Kim| 32|53000.0|\n+-----------+-------------+---+-------+\n\n"
     ]
    }
   ],
   "source": [
    "emp_casted.show()"
   ]
  },
  {
   "cell_type": "code",
   "execution_count": 0,
   "metadata": {
    "application/vnd.databricks.v1+cell": {
     "cellMetadata": {
      "byteLimit": 2048000,
      "rowLimit": 10000
     },
     "inputWidgets": {},
     "nuid": "b459fbfa-ff59-4514-b56e-727c1b2f21a5",
     "showTitle": false,
     "tableResultSettingsMap": {},
     "title": ""
    }
   },
   "outputs": [
    {
     "output_type": "stream",
     "name": "stdout",
     "output_type": "stream",
     "text": [
      "root\n |-- employee_id: string (nullable = true)\n |-- name: string (nullable = true)\n |-- age: string (nullable = true)\n |-- salary: double (nullable = true)\n\n"
     ]
    }
   ],
   "source": [
    "emp_casted.printSchema()"
   ]
  },
  {
   "cell_type": "markdown",
   "metadata": {
    "application/vnd.databricks.v1+cell": {
     "cellMetadata": {},
     "inputWidgets": {},
     "nuid": "13c22f95-6663-4462-ae35-c5f5ecc61848",
     "showTitle": false,
     "tableResultSettingsMap": {},
     "title": ""
    }
   },
   "source": [
    "WithColumn "
   ]
  },
  {
   "cell_type": "code",
   "execution_count": 0,
   "metadata": {
    "application/vnd.databricks.v1+cell": {
     "cellMetadata": {
      "byteLimit": 2048000,
      "rowLimit": 10000
     },
     "inputWidgets": {},
     "nuid": "e4d82a4a-cf92-47f2-9105-2e3dc781c834",
     "showTitle": false,
     "tableResultSettingsMap": {},
     "title": ""
    }
   },
   "outputs": [],
   "source": [
    "emp_taxed = emp_casted.withColumn(\"tax\", expr(\"salary * 0.2\"))"
   ]
  },
  {
   "cell_type": "code",
   "execution_count": 0,
   "metadata": {
    "application/vnd.databricks.v1+cell": {
     "cellMetadata": {
      "byteLimit": 2048000,
      "rowLimit": 10000
     },
     "inputWidgets": {},
     "nuid": "2743cb82-64bc-4773-becb-b7dd1e868214",
     "showTitle": false,
     "tableResultSettingsMap": {},
     "title": ""
    }
   },
   "outputs": [
    {
     "output_type": "stream",
     "name": "stdout",
     "output_type": "stream",
     "text": [
      "+-----------+-------------+---+-------+-------+\n|employee_id|         name|age| salary|    tax|\n+-----------+-------------+---+-------+-------+\n|        001|     John Doe| 30|50000.0|10000.0|\n|        002|   Jane Smith| 25|45000.0| 9000.0|\n|        003|    Bob Brown| 35|55000.0|11000.0|\n|        004|    Alice Lee| 28|48000.0| 9600.0|\n|        005|    Jack Chan| 40|60000.0|12000.0|\n|        006|    Jill Wong| 32|52000.0|10400.0|\n|        007|James Johnson| 42|70000.0|14000.0|\n|        008|     Kate Kim| 29|51000.0|10200.0|\n|        009|      Tom Tan| 33|58000.0|11600.0|\n|        010|     Lisa Lee| 27|47000.0| 9400.0|\n|        011|   David Park| 38|65000.0|13000.0|\n|        012|   Susan Chen| 31|54000.0|10800.0|\n|        013|    Brian Kim| 45|75000.0|15000.0|\n|        014|    Emily Lee| 26|46000.0| 9200.0|\n|        015|  Michael Lee| 37|63000.0|12600.0|\n|        016|  Kelly Zhang| 30|49000.0| 9800.0|\n|        017|  George Wang| 34|57000.0|11400.0|\n|        018|    Nancy Liu| 29|50000.0|10000.0|\n|        019|  Steven Chen| 36|62000.0|12400.0|\n|        020|    Grace Kim| 32|53000.0|10600.0|\n+-----------+-------------+---+-------+-------+\n\n"
     ]
    }
   ],
   "source": [
    "emp_taxed.show()"
   ]
  },
  {
   "cell_type": "markdown",
   "metadata": {
    "application/vnd.databricks.v1+cell": {
     "cellMetadata": {},
     "inputWidgets": {},
     "nuid": "168b1ade-ebe2-47f8-802a-23a3b2105ff5",
     "showTitle": false,
     "tableResultSettingsMap": {},
     "title": ""
    }
   },
   "source": [
    "# Adding static values using lit method"
   ]
  },
  {
   "cell_type": "code",
   "execution_count": 0,
   "metadata": {
    "application/vnd.databricks.v1+cell": {
     "cellMetadata": {
      "byteLimit": 2048000,
      "rowLimit": 10000
     },
     "inputWidgets": {},
     "nuid": "ce0326c0-c9cd-43ce-89f2-5c8f73d3bc09",
     "showTitle": false,
     "tableResultSettingsMap": {},
     "title": ""
    }
   },
   "outputs": [],
   "source": [
    "emp_static_column = emp_taxed.withColumn(\"columnOne\", lit(\"1\")).withColumn(\"columnTwo\", lit(\"two\"))"
   ]
  },
  {
   "cell_type": "code",
   "execution_count": 0,
   "metadata": {
    "application/vnd.databricks.v1+cell": {
     "cellMetadata": {
      "byteLimit": 2048000,
      "rowLimit": 10000
     },
     "inputWidgets": {},
     "nuid": "9b57108e-f34b-4a29-bfad-731da7befabe",
     "showTitle": false,
     "tableResultSettingsMap": {},
     "title": ""
    }
   },
   "outputs": [
    {
     "output_type": "stream",
     "name": "stdout",
     "output_type": "stream",
     "text": [
      "+-----------+-------------+---+-------+-------+---------+---------+\n|employee_id|         name|age| salary|    tax|columnOne|columnTwo|\n+-----------+-------------+---+-------+-------+---------+---------+\n|        001|     John Doe| 30|50000.0|10000.0|        1|      two|\n|        002|   Jane Smith| 25|45000.0| 9000.0|        1|      two|\n|        003|    Bob Brown| 35|55000.0|11000.0|        1|      two|\n|        004|    Alice Lee| 28|48000.0| 9600.0|        1|      two|\n|        005|    Jack Chan| 40|60000.0|12000.0|        1|      two|\n|        006|    Jill Wong| 32|52000.0|10400.0|        1|      two|\n|        007|James Johnson| 42|70000.0|14000.0|        1|      two|\n|        008|     Kate Kim| 29|51000.0|10200.0|        1|      two|\n|        009|      Tom Tan| 33|58000.0|11600.0|        1|      two|\n|        010|     Lisa Lee| 27|47000.0| 9400.0|        1|      two|\n|        011|   David Park| 38|65000.0|13000.0|        1|      two|\n|        012|   Susan Chen| 31|54000.0|10800.0|        1|      two|\n|        013|    Brian Kim| 45|75000.0|15000.0|        1|      two|\n|        014|    Emily Lee| 26|46000.0| 9200.0|        1|      two|\n|        015|  Michael Lee| 37|63000.0|12600.0|        1|      two|\n|        016|  Kelly Zhang| 30|49000.0| 9800.0|        1|      two|\n|        017|  George Wang| 34|57000.0|11400.0|        1|      two|\n|        018|    Nancy Liu| 29|50000.0|10000.0|        1|      two|\n|        019|  Steven Chen| 36|62000.0|12400.0|        1|      two|\n|        020|    Grace Kim| 32|53000.0|10600.0|        1|      two|\n+-----------+-------------+---+-------+-------+---------+---------+\n\n"
     ]
    }
   ],
   "source": [
    "emp_static_column.show()"
   ]
  },
  {
   "cell_type": "markdown",
   "metadata": {
    "application/vnd.databricks.v1+cell": {
     "cellMetadata": {},
     "inputWidgets": {},
     "nuid": "61ec597e-3c43-49d3-890f-f69bd6995065",
     "showTitle": false,
     "tableResultSettingsMap": {},
     "title": ""
    }
   },
   "source": [
    "# WithColumn Rename for Renaming the column"
   ]
  },
  {
   "cell_type": "code",
   "execution_count": 0,
   "metadata": {
    "application/vnd.databricks.v1+cell": {
     "cellMetadata": {
      "byteLimit": 2048000,
      "rowLimit": 10000
     },
     "inputWidgets": {},
     "nuid": "32ae67c9-f15b-4c57-8e6c-9d4e75d81e10",
     "showTitle": false,
     "tableResultSettingsMap": {},
     "title": ""
    }
   },
   "outputs": [],
   "source": [
    "emp_column_rename = emp_static_column.withColumnRenamed(\"employedd_id\", \"emp_id\")"
   ]
  },
  {
   "cell_type": "code",
   "execution_count": 0,
   "metadata": {
    "application/vnd.databricks.v1+cell": {
     "cellMetadata": {
      "byteLimit": 2048000,
      "rowLimit": 10000
     },
     "inputWidgets": {},
     "nuid": "2b7d972c-8b01-4867-9262-2f0efda50b67",
     "showTitle": false,
     "tableResultSettingsMap": {},
     "title": ""
    }
   },
   "outputs": [
    {
     "output_type": "stream",
     "name": "stdout",
     "output_type": "stream",
     "text": [
      "+-----------+-------------+---+-------+-------+---------+---------+\n|employee_id|         name|age| salary|    tax|columnOne|columnTwo|\n+-----------+-------------+---+-------+-------+---------+---------+\n|        001|     John Doe| 30|50000.0|10000.0|        1|      two|\n|        002|   Jane Smith| 25|45000.0| 9000.0|        1|      two|\n|        003|    Bob Brown| 35|55000.0|11000.0|        1|      two|\n|        004|    Alice Lee| 28|48000.0| 9600.0|        1|      two|\n|        005|    Jack Chan| 40|60000.0|12000.0|        1|      two|\n|        006|    Jill Wong| 32|52000.0|10400.0|        1|      two|\n|        007|James Johnson| 42|70000.0|14000.0|        1|      two|\n|        008|     Kate Kim| 29|51000.0|10200.0|        1|      two|\n|        009|      Tom Tan| 33|58000.0|11600.0|        1|      two|\n|        010|     Lisa Lee| 27|47000.0| 9400.0|        1|      two|\n|        011|   David Park| 38|65000.0|13000.0|        1|      two|\n|        012|   Susan Chen| 31|54000.0|10800.0|        1|      two|\n|        013|    Brian Kim| 45|75000.0|15000.0|        1|      two|\n|        014|    Emily Lee| 26|46000.0| 9200.0|        1|      two|\n|        015|  Michael Lee| 37|63000.0|12600.0|        1|      two|\n|        016|  Kelly Zhang| 30|49000.0| 9800.0|        1|      two|\n|        017|  George Wang| 34|57000.0|11400.0|        1|      two|\n|        018|    Nancy Liu| 29|50000.0|10000.0|        1|      two|\n|        019|  Steven Chen| 36|62000.0|12400.0|        1|      two|\n|        020|    Grace Kim| 32|53000.0|10600.0|        1|      two|\n+-----------+-------------+---+-------+-------+---------+---------+\n\n"
     ]
    }
   ],
   "source": [
    "emp_column_rename.show()"
   ]
  },
  {
   "cell_type": "markdown",
   "metadata": {
    "application/vnd.databricks.v1+cell": {
     "cellMetadata": {},
     "inputWidgets": {},
     "nuid": "71e1d7f4-8529-45e9-a7da-cca81d8e45aa",
     "showTitle": false,
     "tableResultSettingsMap": {},
     "title": ""
    }
   },
   "source": [
    "# There are multiple ways to rename the column rename\n",
    "## 1. withColumnRenamed(\"employee_id\",\"emp_id\")\n",
    "## 2. selectExpr(\"employee_id as emp_id\")\n",
    "## 3. select(expr(\"employee_id as emp_id\"))"
   ]
  },
  {
   "cell_type": "markdown",
   "metadata": {
    "application/vnd.databricks.v1+cell": {
     "cellMetadata": {},
     "inputWidgets": {},
     "nuid": "664b1f5a-e1e3-4c85-aaba-7e140a5fd45c",
     "showTitle": false,
     "tableResultSettingsMap": {},
     "title": ""
    }
   },
   "source": [
    "## Drop column"
   ]
  },
  {
   "cell_type": "code",
   "execution_count": 0,
   "metadata": {
    "application/vnd.databricks.v1+cell": {
     "cellMetadata": {
      "byteLimit": 2048000,
      "rowLimit": 10000
     },
     "inputWidgets": {},
     "nuid": "92238f4b-544b-4012-a61c-6f561678d754",
     "showTitle": false,
     "tableResultSettingsMap": {},
     "title": ""
    }
   },
   "outputs": [],
   "source": [
    "emp_dropped = emp_column_rename.drop(\"columnTwo\")"
   ]
  },
  {
   "cell_type": "code",
   "execution_count": 0,
   "metadata": {
    "application/vnd.databricks.v1+cell": {
     "cellMetadata": {
      "byteLimit": 2048000,
      "rowLimit": 10000
     },
     "inputWidgets": {},
     "nuid": "562e2d59-d770-4a0b-8638-075fde699f85",
     "showTitle": false,
     "tableResultSettingsMap": {},
     "title": ""
    }
   },
   "outputs": [
    {
     "output_type": "stream",
     "name": "stdout",
     "output_type": "stream",
     "text": [
      "+-----------+-------------+---+-------+-------+---------+\n|employee_id|         name|age| salary|    tax|columnOne|\n+-----------+-------------+---+-------+-------+---------+\n|        001|     John Doe| 30|50000.0|10000.0|        1|\n|        002|   Jane Smith| 25|45000.0| 9000.0|        1|\n|        003|    Bob Brown| 35|55000.0|11000.0|        1|\n|        004|    Alice Lee| 28|48000.0| 9600.0|        1|\n|        005|    Jack Chan| 40|60000.0|12000.0|        1|\n|        006|    Jill Wong| 32|52000.0|10400.0|        1|\n|        007|James Johnson| 42|70000.0|14000.0|        1|\n|        008|     Kate Kim| 29|51000.0|10200.0|        1|\n|        009|      Tom Tan| 33|58000.0|11600.0|        1|\n|        010|     Lisa Lee| 27|47000.0| 9400.0|        1|\n|        011|   David Park| 38|65000.0|13000.0|        1|\n|        012|   Susan Chen| 31|54000.0|10800.0|        1|\n|        013|    Brian Kim| 45|75000.0|15000.0|        1|\n|        014|    Emily Lee| 26|46000.0| 9200.0|        1|\n|        015|  Michael Lee| 37|63000.0|12600.0|        1|\n|        016|  Kelly Zhang| 30|49000.0| 9800.0|        1|\n|        017|  George Wang| 34|57000.0|11400.0|        1|\n|        018|    Nancy Liu| 29|50000.0|10000.0|        1|\n|        019|  Steven Chen| 36|62000.0|12400.0|        1|\n|        020|    Grace Kim| 32|53000.0|10600.0|        1|\n+-----------+-------------+---+-------+-------+---------+\n\n"
     ]
    }
   ],
   "source": [
    "emp_dropped.show()"
   ]
  },
  {
   "cell_type": "code",
   "execution_count": 0,
   "metadata": {
    "application/vnd.databricks.v1+cell": {
     "cellMetadata": {
      "byteLimit": 2048000,
      "rowLimit": 10000
     },
     "inputWidgets": {},
     "nuid": "9a574275-53c6-4ecd-ba25-b6c890cb3503",
     "showTitle": false,
     "tableResultSettingsMap": {},
     "title": ""
    }
   },
   "outputs": [],
   "source": [
    "#Filtering the data where tax > 10000\n",
    "\n",
    "emp_filtered_tax = emp_dropped.where(\"tax > 10000\")"
   ]
  },
  {
   "cell_type": "code",
   "execution_count": 0,
   "metadata": {
    "application/vnd.databricks.v1+cell": {
     "cellMetadata": {
      "byteLimit": 2048000,
      "rowLimit": 10000
     },
     "inputWidgets": {},
     "nuid": "9bd45566-3d4b-4200-9bee-890dd94980ec",
     "showTitle": false,
     "tableResultSettingsMap": {},
     "title": ""
    }
   },
   "outputs": [
    {
     "output_type": "stream",
     "name": "stdout",
     "output_type": "stream",
     "text": [
      "+-----------+-------------+---+-------+-------+---------+\n|employee_id|         name|age| salary|    tax|columnOne|\n+-----------+-------------+---+-------+-------+---------+\n|        003|    Bob Brown| 35|55000.0|11000.0|        1|\n|        005|    Jack Chan| 40|60000.0|12000.0|        1|\n|        006|    Jill Wong| 32|52000.0|10400.0|        1|\n|        007|James Johnson| 42|70000.0|14000.0|        1|\n|        008|     Kate Kim| 29|51000.0|10200.0|        1|\n|        009|      Tom Tan| 33|58000.0|11600.0|        1|\n|        011|   David Park| 38|65000.0|13000.0|        1|\n|        012|   Susan Chen| 31|54000.0|10800.0|        1|\n|        013|    Brian Kim| 45|75000.0|15000.0|        1|\n|        015|  Michael Lee| 37|63000.0|12600.0|        1|\n|        017|  George Wang| 34|57000.0|11400.0|        1|\n|        019|  Steven Chen| 36|62000.0|12400.0|        1|\n|        020|    Grace Kim| 32|53000.0|10600.0|        1|\n+-----------+-------------+---+-------+-------+---------+\n\n"
     ]
    }
   ],
   "source": [
    "emp_filtered_tax.show()"
   ]
  },
  {
   "cell_type": "code",
   "execution_count": 0,
   "metadata": {
    "application/vnd.databricks.v1+cell": {
     "cellMetadata": {
      "byteLimit": 2048000,
      "rowLimit": 10000
     },
     "inputWidgets": {},
     "nuid": "7fce538f-771a-4e04-9967-d4f249b11047",
     "showTitle": false,
     "tableResultSettingsMap": {},
     "title": ""
    }
   },
   "outputs": [
    {
     "output_type": "stream",
     "name": "stdout",
     "output_type": "stream",
     "text": [
      "Out[44]: DataFrame[employee_id: string, name: string, age: string, salary: double, tax: double, columnOne: string]"
     ]
    }
   ],
   "source": [
    "#limit the data\n",
    "\n",
    "emp_limited = emp_filtered_tax.limit(5)"
   ]
  },
  {
   "cell_type": "markdown",
   "metadata": {
    "application/vnd.databricks.v1+cell": {
     "cellMetadata": {},
     "inputWidgets": {},
     "nuid": "788708d6-8b30-4e9e-8af4-545c27160c65",
     "showTitle": false,
     "tableResultSettingsMap": {},
     "title": ""
    }
   },
   "source": [
    "# Bonus Tip --- Adding multiple columns at a time instead of using withColumn for every new column"
   ]
  },
  {
   "cell_type": "code",
   "execution_count": 0,
   "metadata": {
    "application/vnd.databricks.v1+cell": {
     "cellMetadata": {
      "byteLimit": 2048000,
      "rowLimit": 10000
     },
     "inputWidgets": {},
     "nuid": "ecc0cc8e-0b87-4af8-b95a-14281e006d6d",
     "showTitle": false,
     "tableResultSettingsMap": {},
     "title": ""
    }
   },
   "outputs": [],
   "source": [
    "emp_new_columns = {\n",
    "\n",
    "\"tax\": col(\"salary\")*0.2,\n",
    "\"oneNumber\": lit(1),\n",
    "\"ColumnTwo\": lit(\"two\")\n",
    "}\n",
    "\n",
    "emp_final = emp.withColumns(emp_new_columns)"
   ]
  },
  {
   "cell_type": "code",
   "execution_count": 0,
   "metadata": {
    "application/vnd.databricks.v1+cell": {
     "cellMetadata": {
      "byteLimit": 2048000,
      "rowLimit": 10000
     },
     "inputWidgets": {},
     "nuid": "aa34c92b-6035-40d7-b122-f8f5b639bb5c",
     "showTitle": false,
     "tableResultSettingsMap": {},
     "title": ""
    }
   },
   "outputs": [
    {
     "output_type": "stream",
     "name": "stdout",
     "output_type": "stream",
     "text": [
      "+-----------+-------------+-------------+---+------+------+----------+-------+---------+---------+\n|employee_id|department_id|         name|age|gender|salary| hire_date|    tax|oneNumber|ColumnTwo|\n+-----------+-------------+-------------+---+------+------+----------+-------+---------+---------+\n|        001|          101|     John Doe| 30|  Male| 50000|2015-01-01|10000.0|        1|      two|\n|        002|          101|   Jane Smith| 25|Female| 45000|2016-02-15| 9000.0|        1|      two|\n|        003|          102|    Bob Brown| 35|  Male| 55000|2014-05-01|11000.0|        1|      two|\n|        004|          102|    Alice Lee| 28|Female| 48000|2017-09-30| 9600.0|        1|      two|\n|        005|          103|    Jack Chan| 40|  Male| 60000|2013-04-01|12000.0|        1|      two|\n|        006|          103|    Jill Wong| 32|Female| 52000|2018-07-01|10400.0|        1|      two|\n|        007|          101|James Johnson| 42|  Male| 70000|2012-03-15|14000.0|        1|      two|\n|        008|          102|     Kate Kim| 29|Female| 51000|2019-10-01|10200.0|        1|      two|\n|        009|          103|      Tom Tan| 33|  Male| 58000|2016-06-01|11600.0|        1|      two|\n|        010|          104|     Lisa Lee| 27|Female| 47000|2018-08-01| 9400.0|        1|      two|\n|        011|          104|   David Park| 38|  Male| 65000|2015-11-01|13000.0|        1|      two|\n|        012|          105|   Susan Chen| 31|Female| 54000|2017-02-15|10800.0|        1|      two|\n|        013|          106|    Brian Kim| 45|  Male| 75000|2011-07-01|15000.0|        1|      two|\n|        014|          107|    Emily Lee| 26|Female| 46000|2019-01-01| 9200.0|        1|      two|\n|        015|          106|  Michael Lee| 37|  Male| 63000|2014-09-30|12600.0|        1|      two|\n|        016|          107|  Kelly Zhang| 30|Female| 49000|2018-04-01| 9800.0|        1|      two|\n|        017|          105|  George Wang| 34|  Male| 57000|2016-03-15|11400.0|        1|      two|\n|        018|          104|    Nancy Liu| 29|Female| 50000|2017-06-01|10000.0|        1|      two|\n|        019|          103|  Steven Chen| 36|  Male| 62000|2015-08-01|12400.0|        1|      two|\n|        020|          102|    Grace Kim| 32|Female| 53000|2018-11-01|10600.0|        1|      two|\n+-----------+-------------+-------------+---+------+------+----------+-------+---------+---------+\n\n"
     ]
    }
   ],
   "source": [
    "emp_final.show()"
   ]
  }
 ],
 "metadata": {
  "application/vnd.databricks.v1+notebook": {
   "computePreferences": null,
   "dashboards": [],
   "environmentMetadata": {
    "base_environment": "",
    "environment_version": "1"
   },
   "inputWidgetPreferences": null,
   "language": "python",
   "notebookMetadata": {
    "pythonIndentUnit": 4
   },
   "notebookName": "WithColumn Expressions",
   "widgets": {}
  }
 },
 "nbformat": 4,
 "nbformat_minor": 0
}
