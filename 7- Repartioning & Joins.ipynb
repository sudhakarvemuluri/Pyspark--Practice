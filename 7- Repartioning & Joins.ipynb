{
 "cells": [
  {
   "cell_type": "code",
   "execution_count": 0,
   "metadata": {
    "application/vnd.databricks.v1+cell": {
     "cellMetadata": {
      "byteLimit": 2048000,
      "rowLimit": 10000
     },
     "inputWidgets": {},
     "nuid": "dd41aa22-9327-4694-99d3-9e33b96bcbf2",
     "showTitle": false,
     "tableResultSettingsMap": {},
     "title": ""
    }
   },
   "outputs": [],
   "source": [
    "from pyspark.sql.functions import *\n",
    "from pyspark.sql import SparkSession\n",
    "\n",
    "spark = SparkSession.builder.master(\"local[*]\").appName(\"repartition\").getOrCreate()"
   ]
  },
  {
   "cell_type": "code",
   "execution_count": 0,
   "metadata": {
    "application/vnd.databricks.v1+cell": {
     "cellMetadata": {
      "byteLimit": 2048000,
      "rowLimit": 10000
     },
     "inputWidgets": {},
     "nuid": "57b44337-2358-44e2-a20b-1c204baf85a6",
     "showTitle": false,
     "tableResultSettingsMap": {},
     "title": ""
    }
   },
   "outputs": [],
   "source": [
    "emp_data = [\n",
    "    [\"001\",\"101\",\"John Doe\",\"30\",\"Male\",\"50000\",\"2015-01-01\"],\n",
    "    [\"002\",\"101\",\"Jane Smith\",\"25\",\"Female\",\"45000\",\"2016-02-15\"],\n",
    "    [\"003\",\"102\",\"Bob Brown\",\"35\",\"Male\",\"55000\",\"2014-05-01\"],\n",
    "    [\"004\",\"102\",\"Alice Lee\",\"28\",\"Female\",\"48000\",\"2017-09-30\"],\n",
    "    [\"005\",\"103\",\"Jack Chan\",\"40\",\"Male\",\"60000\",\"2013-04-01\"],\n",
    "    [\"006\",\"103\",\"Jill Wong\",\"32\",\"Female\",\"52000\",\"2018-07-01\"],\n",
    "    [\"007\",\"101\",\"James Johnson\",\"42\",\"Male\",\"70000\",\"2012-03-15\"],\n",
    "    [\"008\",\"102\",\"Kate Kim\",\"29\",\"Female\",\"51000\",\"2019-10-01\"],\n",
    "    [\"009\",\"103\",\"Tom Tan\",\"33\",\"Male\",\"58000\",\"2016-06-01\"],\n",
    "    [\"010\",\"104\",\"Lisa Lee\",\"27\",\"Female\",\"47000\",\"2018-08-01\"],\n",
    "    [\"011\",\"104\",\"David Park\",\"38\",\"Male\",\"65000\",\"2015-11-01\"],\n",
    "    [\"012\",\"105\",\"Susan Chen\",\"31\",\"Female\",\"54000\",\"2017-02-15\"],\n",
    "    [\"013\",\"106\",\"Brian Kim\",\"45\",\"Male\",\"75000\",\"2011-07-01\"],\n",
    "    [\"014\",\"107\",\"Emily Lee\",\"26\",\"Female\",\"46000\",\"2019-01-01\"],\n",
    "    [\"015\",\"106\",\"Michael Lee\",\"37\",\"Male\",\"63000\",\"2014-09-30\"],\n",
    "    [\"016\",\"107\",\"Kelly Zhang\",\"30\",\"Female\",\"49000\",\"2018-04-01\"],\n",
    "    [\"017\",\"105\",\"George Wang\",\"34\",\"Male\",\"57000\",\"2016-03-15\"],\n",
    "    [\"018\",\"104\",\"Nancy Liu\",\"29\",\"\",\"50000\",\"2017-06-01\"],\n",
    "    [\"019\",\"103\",\"Steven Chen\",\"36\",\"Male\",\"62000\",\"2015-08-01\"],\n",
    "    [\"020\",\"102\",\"Grace Kim\",\"32\",\"Female\",\"53000\",\"2018-11-01\"]\n",
    "]\n",
    "\n",
    "emp_schema = \"employee_id string, department_id string, name string, age string, gender string, salary string, hire_date string\"\n",
    "\n",
    "dept_data = [\n",
    "    [\"101\", \"Sales\", \"NYC\", \"US\", \"1000000\"],\n",
    "    [\"102\", \"Marketing\", \"LA\", \"US\", \"900000\"],\n",
    "    [\"103\", \"Finance\", \"London\", \"UK\", \"1200000\"],\n",
    "    [\"104\", \"Engineering\", \"Beijing\", \"China\", \"1500000\"],\n",
    "    [\"105\", \"Human Resources\", \"Tokyo\", \"Japan\", \"800000\"],\n",
    "    [\"106\", \"Research and Development\", \"Perth\", \"Australia\", \"1100000\"],\n",
    "    [\"107\", \"Customer Service\", \"Sydney\", \"Australia\", \"950000\"]\n",
    "]\n",
    "\n",
    "dept_schema = \"department_id string, department_name string, city string, country string, budget string\""
   ]
  },
  {
   "cell_type": "code",
   "execution_count": 0,
   "metadata": {
    "application/vnd.databricks.v1+cell": {
     "cellMetadata": {
      "byteLimit": 2048000,
      "rowLimit": 10000
     },
     "inputWidgets": {},
     "nuid": "28c5d569-ca6c-425b-b302-4d73575c9ff5",
     "showTitle": false,
     "tableResultSettingsMap": {},
     "title": ""
    }
   },
   "outputs": [],
   "source": [
    "emp_df = spark.createDataFrame(emp_data, schema =emp_schema)\n",
    "dep_df = spark.createDataFrame(dept_data,schema = dept_schema)"
   ]
  },
  {
   "cell_type": "code",
   "execution_count": 0,
   "metadata": {
    "application/vnd.databricks.v1+cell": {
     "cellMetadata": {
      "byteLimit": 2048000,
      "rowLimit": 10000
     },
     "inputWidgets": {},
     "nuid": "e1d5fa56-d910-4f1b-afe8-557841d57617",
     "showTitle": false,
     "tableResultSettingsMap": {},
     "title": ""
    }
   },
   "outputs": [
    {
     "output_type": "stream",
     "name": "stdout",
     "output_type": "stream",
     "text": [
      "+-----------+-------------+-------------+---+------+------+----------+\n|employee_id|department_id|         name|age|gender|salary| hire_date|\n+-----------+-------------+-------------+---+------+------+----------+\n|        001|          101|     John Doe| 30|  Male| 50000|2015-01-01|\n|        002|          101|   Jane Smith| 25|Female| 45000|2016-02-15|\n|        003|          102|    Bob Brown| 35|  Male| 55000|2014-05-01|\n|        004|          102|    Alice Lee| 28|Female| 48000|2017-09-30|\n|        005|          103|    Jack Chan| 40|  Male| 60000|2013-04-01|\n|        006|          103|    Jill Wong| 32|Female| 52000|2018-07-01|\n|        007|          101|James Johnson| 42|  Male| 70000|2012-03-15|\n|        008|          102|     Kate Kim| 29|Female| 51000|2019-10-01|\n|        009|          103|      Tom Tan| 33|  Male| 58000|2016-06-01|\n|        010|          104|     Lisa Lee| 27|Female| 47000|2018-08-01|\n|        011|          104|   David Park| 38|  Male| 65000|2015-11-01|\n|        012|          105|   Susan Chen| 31|Female| 54000|2017-02-15|\n|        013|          106|    Brian Kim| 45|  Male| 75000|2011-07-01|\n|        014|          107|    Emily Lee| 26|Female| 46000|2019-01-01|\n|        015|          106|  Michael Lee| 37|  Male| 63000|2014-09-30|\n|        016|          107|  Kelly Zhang| 30|Female| 49000|2018-04-01|\n|        017|          105|  George Wang| 34|  Male| 57000|2016-03-15|\n|        018|          104|    Nancy Liu| 29|      | 50000|2017-06-01|\n|        019|          103|  Steven Chen| 36|  Male| 62000|2015-08-01|\n|        020|          102|    Grace Kim| 32|Female| 53000|2018-11-01|\n+-----------+-------------+-------------+---+------+------+----------+\n\n+-------------+--------------------+-------+---------+-------+\n|department_id|     department_name|   city|  country| budget|\n+-------------+--------------------+-------+---------+-------+\n|          101|               Sales|    NYC|       US|1000000|\n|          102|           Marketing|     LA|       US| 900000|\n|          103|             Finance| London|       UK|1200000|\n|          104|         Engineering|Beijing|    China|1500000|\n|          105|     Human Resources|  Tokyo|    Japan| 800000|\n|          106|Research and Deve...|  Perth|Australia|1100000|\n|          107|    Customer Service| Sydney|Australia| 950000|\n+-------------+--------------------+-------+---------+-------+\n\n"
     ]
    }
   ],
   "source": [
    "emp_df.show()\n",
    "dep_df.show()"
   ]
  },
  {
   "cell_type": "code",
   "execution_count": 0,
   "metadata": {
    "application/vnd.databricks.v1+cell": {
     "cellMetadata": {
      "byteLimit": 2048000,
      "rowLimit": 10000
     },
     "inputWidgets": {},
     "nuid": "975b91a0-bbc9-4d31-8b68-64a9dd6e3c92",
     "showTitle": false,
     "tableResultSettingsMap": {},
     "title": ""
    }
   },
   "outputs": [
    {
     "output_type": "stream",
     "name": "stdout",
     "output_type": "stream",
     "text": [
      "root\n |-- employee_id: string (nullable = true)\n |-- department_id: string (nullable = true)\n |-- name: string (nullable = true)\n |-- age: string (nullable = true)\n |-- gender: string (nullable = true)\n |-- salary: string (nullable = true)\n |-- hire_date: string (nullable = true)\n\nroot\n |-- department_id: string (nullable = true)\n |-- department_name: string (nullable = true)\n |-- city: string (nullable = true)\n |-- country: string (nullable = true)\n |-- budget: string (nullable = true)\n\n"
     ]
    }
   ],
   "source": [
    "emp_df.printSchema()\n",
    "dep_df.printSchema()"
   ]
  },
  {
   "cell_type": "code",
   "execution_count": 0,
   "metadata": {
    "application/vnd.databricks.v1+cell": {
     "cellMetadata": {
      "byteLimit": 2048000,
      "rowLimit": 10000
     },
     "inputWidgets": {},
     "nuid": "d185d7e8-c722-4f8e-a108-34091a029a49",
     "showTitle": false,
     "tableResultSettingsMap": {},
     "title": ""
    }
   },
   "outputs": [
    {
     "output_type": "stream",
     "name": "stdout",
     "output_type": "stream",
     "text": [
      "Out[6]: 8"
     ]
    }
   ],
   "source": [
    "emp_df.rdd.getNumPartitions()\n"
   ]
  },
  {
   "cell_type": "code",
   "execution_count": 0,
   "metadata": {
    "application/vnd.databricks.v1+cell": {
     "cellMetadata": {
      "byteLimit": 2048000,
      "rowLimit": 10000
     },
     "inputWidgets": {},
     "nuid": "7a086184-3df3-487c-88de-8df53ff07950",
     "showTitle": false,
     "tableResultSettingsMap": {},
     "title": ""
    }
   },
   "outputs": [
    {
     "output_type": "stream",
     "name": "stdout",
     "output_type": "stream",
     "text": [
      "Out[7]: 8"
     ]
    }
   ],
   "source": [
    "dep_df.rdd.getNumPartitions()"
   ]
  },
  {
   "cell_type": "markdown",
   "metadata": {
    "application/vnd.databricks.v1+cell": {
     "cellMetadata": {},
     "inputWidgets": {},
     "nuid": "487d4cb4-6975-43b8-9bbf-262b81316b90",
     "showTitle": false,
     "tableResultSettingsMap": {},
     "title": ""
    }
   },
   "source": [
    "# Reduce or Increase Data Partitions"
   ]
  },
  {
   "cell_type": "code",
   "execution_count": 0,
   "metadata": {
    "application/vnd.databricks.v1+cell": {
     "cellMetadata": {
      "byteLimit": 2048000,
      "rowLimit": 10000
     },
     "inputWidgets": {},
     "nuid": "ea98207a-af16-424d-be07-91310c4681dd",
     "showTitle": false,
     "tableResultSettingsMap": {},
     "title": ""
    }
   },
   "outputs": [
    {
     "output_type": "stream",
     "name": "stdout",
     "output_type": "stream",
     "text": [
      "Out[8]: 4"
     ]
    }
   ],
   "source": [
    "emp_repartitioned = emp_df.repartition(4)\n",
    "emp_repartitioned.rdd.getNumPartitions()"
   ]
  },
  {
   "cell_type": "code",
   "execution_count": 0,
   "metadata": {
    "application/vnd.databricks.v1+cell": {
     "cellMetadata": {
      "byteLimit": 2048000,
      "rowLimit": 10000
     },
     "inputWidgets": {},
     "nuid": "78a878df-9a02-475a-b31d-016d58a15f3e",
     "showTitle": false,
     "tableResultSettingsMap": {},
     "title": ""
    }
   },
   "outputs": [
    {
     "output_type": "stream",
     "name": "stdout",
     "output_type": "stream",
     "text": [
      "Out[9]: 100"
     ]
    }
   ],
   "source": [
    "emp_repartitioned = emp_df.repartition(100)\n",
    "emp_repartitioned.rdd.getNumPartitions()\n"
   ]
  },
  {
   "cell_type": "markdown",
   "metadata": {
    "application/vnd.databricks.v1+cell": {
     "cellMetadata": {},
     "inputWidgets": {},
     "nuid": "9b1d37cf-9389-41cd-8158-f6551d52bb35",
     "showTitle": false,
     "tableResultSettingsMap": {},
     "title": ""
    }
   },
   "source": [
    "# For coalesce even if you mention 100 it will not increase partition size to 100 as below instead it decreases but in repartition increase or decrease can possible, data shuffling occurrs in repartition but it distributes data uniformly but in coalesce shuffling not happens but data uniformity not gurantee."
   ]
  },
  {
   "cell_type": "code",
   "execution_count": 0,
   "metadata": {
    "application/vnd.databricks.v1+cell": {
     "cellMetadata": {
      "byteLimit": 2048000,
      "rowLimit": 10000
     },
     "inputWidgets": {},
     "nuid": "3f5a282f-dcb6-47af-8dda-53d962130c09",
     "showTitle": false,
     "tableResultSettingsMap": {},
     "title": ""
    }
   },
   "outputs": [
    {
     "output_type": "stream",
     "name": "stdout",
     "output_type": "stream",
     "text": [
      "Out[10]: 8"
     ]
    }
   ],
   "source": [
    "emp_repartitioned = emp_df.coalesce(100)\n",
    "emp_repartitioned.rdd.getNumPartitions()\n"
   ]
  },
  {
   "cell_type": "code",
   "execution_count": 0,
   "metadata": {
    "application/vnd.databricks.v1+cell": {
     "cellMetadata": {
      "byteLimit": 2048000,
      "rowLimit": 10000
     },
     "inputWidgets": {},
     "nuid": "da06e295-520a-4a27-91c7-bd7481ca9414",
     "showTitle": false,
     "tableResultSettingsMap": {},
     "title": ""
    }
   },
   "outputs": [
    {
     "output_type": "stream",
     "name": "stdout",
     "output_type": "stream",
     "text": [
      "Out[12]: 4"
     ]
    }
   ],
   "source": [
    "# partition based on department i'd\n",
    "emp_repartitioned = emp_df.repartition(4,\"department_id\")\n",
    "emp_repartitioned.rdd.getNumPartitions()\n",
    "\n"
   ]
  },
  {
   "cell_type": "code",
   "execution_count": 0,
   "metadata": {
    "application/vnd.databricks.v1+cell": {
     "cellMetadata": {
      "byteLimit": 2048000,
      "rowLimit": 10000
     },
     "inputWidgets": {},
     "nuid": "e4cae934-4b12-427c-b3ea-27c622699fd5",
     "showTitle": false,
     "tableResultSettingsMap": {},
     "title": ""
    }
   },
   "outputs": [
    {
     "output_type": "stream",
     "name": "stdout",
     "output_type": "stream",
     "text": [
      "+-----------+-------------+-------------+---+------+------+----------+------------+\n|employee_id|department_id|         name|age|gender|salary| hire_date|partition_id|\n+-----------+-------------+-------------+---+------+------+----------+------------+\n|        001|          101|     John Doe| 30|  Male| 50000|2015-01-01|           3|\n|        002|          101|   Jane Smith| 25|Female| 45000|2016-02-15|           3|\n|        007|          101|James Johnson| 42|  Male| 70000|2012-03-15|           3|\n|        003|          102|    Bob Brown| 35|  Male| 55000|2014-05-01|           0|\n|        004|          102|    Alice Lee| 28|Female| 48000|2017-09-30|           0|\n|        008|          102|     Kate Kim| 29|Female| 51000|2019-10-01|           0|\n|        020|          102|    Grace Kim| 32|Female| 53000|2018-11-01|           0|\n|        005|          103|    Jack Chan| 40|  Male| 60000|2013-04-01|           3|\n|        006|          103|    Jill Wong| 32|Female| 52000|2018-07-01|           3|\n|        009|          103|      Tom Tan| 33|  Male| 58000|2016-06-01|           3|\n|        019|          103|  Steven Chen| 36|  Male| 62000|2015-08-01|           3|\n|        010|          104|     Lisa Lee| 27|Female| 47000|2018-08-01|           2|\n|        011|          104|   David Park| 38|  Male| 65000|2015-11-01|           2|\n|        018|          104|    Nancy Liu| 29|      | 50000|2017-06-01|           2|\n|        012|          105|   Susan Chen| 31|Female| 54000|2017-02-15|           1|\n|        017|          105|  George Wang| 34|  Male| 57000|2016-03-15|           1|\n|        013|          106|    Brian Kim| 45|  Male| 75000|2011-07-01|           2|\n|        015|          106|  Michael Lee| 37|  Male| 63000|2014-09-30|           2|\n|        014|          107|    Emily Lee| 26|Female| 46000|2019-01-01|           0|\n|        016|          107|  Kelly Zhang| 30|Female| 49000|2018-04-01|           0|\n+-----------+-------------+-------------+---+------+------+----------+------------+\n\n"
     ]
    }
   ],
   "source": [
    "# to see partition like which department got which partition i'd we can visualise based on below command\n",
    "\n",
    "emp_repartitioned_1 = emp_df.repartition(4,\"department_id\").withColumn(\"partition_id\",spark_partition_id()).show()"
   ]
  },
  {
   "cell_type": "markdown",
   "metadata": {
    "application/vnd.databricks.v1+cell": {
     "cellMetadata": {},
     "inputWidgets": {},
     "nuid": "23a34fc1-c680-4b40-9364-80f9b54f9757",
     "showTitle": false,
     "tableResultSettingsMap": {},
     "title": ""
    }
   },
   "source": [
    "## There is benefit when you do repartition and is one of the optimizatio technique"
   ]
  },
  {
   "cell_type": "markdown",
   "metadata": {
    "application/vnd.databricks.v1+cell": {
     "cellMetadata": {},
     "inputWidgets": {},
     "nuid": "9e0c587e-d39b-4f79-a734-8fb285609257",
     "showTitle": false,
     "tableResultSettingsMap": {},
     "title": ""
    }
   },
   "source": [
    "# JOINS"
   ]
  },
  {
   "cell_type": "code",
   "execution_count": 0,
   "metadata": {
    "application/vnd.databricks.v1+cell": {
     "cellMetadata": {
      "byteLimit": 2048000,
      "rowLimit": 10000
     },
     "inputWidgets": {},
     "nuid": "9a915f55-d810-40a9-b58f-628aeeae2f9a",
     "showTitle": false,
     "tableResultSettingsMap": {},
     "title": ""
    }
   },
   "outputs": [
    {
     "output_type": "stream",
     "name": "stdout",
     "output_type": "stream",
     "text": [
      "+-----------+-------------+-------------+---+------+------+----------+-------------+--------------------+-------+---------+-------+\n|employee_id|department_id|         name|age|gender|salary| hire_date|department_id|     department_name|   city|  country| budget|\n+-----------+-------------+-------------+---+------+------+----------+-------------+--------------------+-------+---------+-------+\n|        001|          101|     John Doe| 30|  Male| 50000|2015-01-01|          101|               Sales|    NYC|       US|1000000|\n|        002|          101|   Jane Smith| 25|Female| 45000|2016-02-15|          101|               Sales|    NYC|       US|1000000|\n|        007|          101|James Johnson| 42|  Male| 70000|2012-03-15|          101|               Sales|    NYC|       US|1000000|\n|        003|          102|    Bob Brown| 35|  Male| 55000|2014-05-01|          102|           Marketing|     LA|       US| 900000|\n|        004|          102|    Alice Lee| 28|Female| 48000|2017-09-30|          102|           Marketing|     LA|       US| 900000|\n|        008|          102|     Kate Kim| 29|Female| 51000|2019-10-01|          102|           Marketing|     LA|       US| 900000|\n|        020|          102|    Grace Kim| 32|Female| 53000|2018-11-01|          102|           Marketing|     LA|       US| 900000|\n|        005|          103|    Jack Chan| 40|  Male| 60000|2013-04-01|          103|             Finance| London|       UK|1200000|\n|        006|          103|    Jill Wong| 32|Female| 52000|2018-07-01|          103|             Finance| London|       UK|1200000|\n|        009|          103|      Tom Tan| 33|  Male| 58000|2016-06-01|          103|             Finance| London|       UK|1200000|\n|        019|          103|  Steven Chen| 36|  Male| 62000|2015-08-01|          103|             Finance| London|       UK|1200000|\n|        010|          104|     Lisa Lee| 27|Female| 47000|2018-08-01|          104|         Engineering|Beijing|    China|1500000|\n|        011|          104|   David Park| 38|  Male| 65000|2015-11-01|          104|         Engineering|Beijing|    China|1500000|\n|        018|          104|    Nancy Liu| 29|      | 50000|2017-06-01|          104|         Engineering|Beijing|    China|1500000|\n|        012|          105|   Susan Chen| 31|Female| 54000|2017-02-15|          105|     Human Resources|  Tokyo|    Japan| 800000|\n|        017|          105|  George Wang| 34|  Male| 57000|2016-03-15|          105|     Human Resources|  Tokyo|    Japan| 800000|\n|        013|          106|    Brian Kim| 45|  Male| 75000|2011-07-01|          106|Research and Deve...|  Perth|Australia|1100000|\n|        015|          106|  Michael Lee| 37|  Male| 63000|2014-09-30|          106|Research and Deve...|  Perth|Australia|1100000|\n|        014|          107|    Emily Lee| 26|Female| 46000|2019-01-01|          107|    Customer Service| Sydney|Australia| 950000|\n|        016|          107|  Kelly Zhang| 30|Female| 49000|2018-04-01|          107|    Customer Service| Sydney|Australia| 950000|\n+-----------+-------------+-------------+---+------+------+----------+-------------+--------------------+-------+---------+-------+\n\n"
     ]
    }
   ],
   "source": [
    "emp_join = emp_df.join(dep_df, emp_df[\"department_id\"] == dep_df[\"department_id\"], \"inner\").show()"
   ]
  },
  {
   "cell_type": "markdown",
   "metadata": {
    "application/vnd.databricks.v1+cell": {
     "cellMetadata": {},
     "inputWidgets": {},
     "nuid": "50a39c9b-195d-4b27-98fa-cab36251ca11",
     "showTitle": false,
     "tableResultSettingsMap": {},
     "title": ""
    }
   },
   "source": [
    "## Conditioning join"
   ]
  },
  {
   "cell_type": "code",
   "execution_count": 0,
   "metadata": {
    "application/vnd.databricks.v1+cell": {
     "cellMetadata": {
      "byteLimit": 2048000,
      "rowLimit": 10000
     },
     "inputWidgets": {},
     "nuid": "f15827db-ae7d-468e-8200-636f656157c1",
     "showTitle": false,
     "tableResultSettingsMap": {},
     "title": ""
    }
   },
   "outputs": [
    {
     "output_type": "stream",
     "name": "stdout",
     "output_type": "stream",
     "text": [
      "+-----------+-------------+-------------+---+------+------+----------+-------------+---------------+----+-------+-------+\n|employee_id|department_id|         name|age|gender|salary| hire_date|department_id|department_name|city|country| budget|\n+-----------+-------------+-------------+---+------+------+----------+-------------+---------------+----+-------+-------+\n|        001|          101|     John Doe| 30|  Male| 50000|2015-01-01|          101|          Sales| NYC|     US|1000000|\n|        002|          101|   Jane Smith| 25|Female| 45000|2016-02-15|          101|          Sales| NYC|     US|1000000|\n|        003|          102|    Bob Brown| 35|  Male| 55000|2014-05-01|          102|      Marketing|  LA|     US| 900000|\n|        004|          102|    Alice Lee| 28|Female| 48000|2017-09-30|          102|      Marketing|  LA|     US| 900000|\n|        005|          103|    Jack Chan| 40|  Male| 60000|2013-04-01|         null|           null|null|   null|   null|\n|        006|          103|    Jill Wong| 32|Female| 52000|2018-07-01|         null|           null|null|   null|   null|\n|        007|          101|James Johnson| 42|  Male| 70000|2012-03-15|          101|          Sales| NYC|     US|1000000|\n|        010|          104|     Lisa Lee| 27|Female| 47000|2018-08-01|         null|           null|null|   null|   null|\n|        008|          102|     Kate Kim| 29|Female| 51000|2019-10-01|          102|      Marketing|  LA|     US| 900000|\n|        009|          103|      Tom Tan| 33|  Male| 58000|2016-06-01|         null|           null|null|   null|   null|\n|        011|          104|   David Park| 38|  Male| 65000|2015-11-01|         null|           null|null|   null|   null|\n|        012|          105|   Susan Chen| 31|Female| 54000|2017-02-15|         null|           null|null|   null|   null|\n|        014|          107|    Emily Lee| 26|Female| 46000|2019-01-01|         null|           null|null|   null|   null|\n|        013|          106|    Brian Kim| 45|  Male| 75000|2011-07-01|         null|           null|null|   null|   null|\n|        016|          107|  Kelly Zhang| 30|Female| 49000|2018-04-01|         null|           null|null|   null|   null|\n|        015|          106|  Michael Lee| 37|  Male| 63000|2014-09-30|         null|           null|null|   null|   null|\n|        018|          104|    Nancy Liu| 29|      | 50000|2017-06-01|         null|           null|null|   null|   null|\n|        020|          102|    Grace Kim| 32|Female| 53000|2018-11-01|          102|      Marketing|  LA|     US| 900000|\n|        019|          103|  Steven Chen| 36|  Male| 62000|2015-08-01|         null|           null|null|   null|   null|\n|        017|          105|  George Wang| 34|  Male| 57000|2016-03-15|         null|           null|null|   null|   null|\n+-----------+-------------+-------------+---+------+------+----------+-------------+---------------+----+-------+-------+\n\n"
     ]
    }
   ],
   "source": [
    "emp_final = emp_df.join(dep_df, (emp_df.department_id == dep_df.department_id)  & ((emp_df.department_id == 101) | (emp_df.department_id == 102)) , \"left_outer\").show()"
   ]
  },
  {
   "cell_type": "code",
   "execution_count": 0,
   "metadata": {
    "application/vnd.databricks.v1+cell": {
     "cellMetadata": {
      "byteLimit": 2048000,
      "rowLimit": 10000
     },
     "inputWidgets": {},
     "nuid": "44d28457-606c-4c97-aead-fb67d75e736f",
     "showTitle": false,
     "tableResultSettingsMap": {},
     "title": ""
    }
   },
   "outputs": [
    {
     "output_type": "stream",
     "name": "stdout",
     "output_type": "stream",
     "text": [
      "+-----------+-------------+-------------+---+------+------+----------+-------------+---------------+----+-------+------+\n|employee_id|department_id|         name|age|gender|salary| hire_date|department_id|department_name|city|country|budget|\n+-----------+-------------+-------------+---+------+------+----------+-------------+---------------+----+-------+------+\n|        001|          101|     John Doe| 30|  Male| 50000|2015-01-01|         null|           null|null|   null|  null|\n|        002|          101|   Jane Smith| 25|Female| 45000|2016-02-15|         null|           null|null|   null|  null|\n|        003|          102|    Bob Brown| 35|  Male| 55000|2014-05-01|         null|           null|null|   null|  null|\n|        004|          102|    Alice Lee| 28|Female| 48000|2017-09-30|         null|           null|null|   null|  null|\n|        005|          103|    Jack Chan| 40|  Male| 60000|2013-04-01|         null|           null|null|   null|  null|\n|        006|          103|    Jill Wong| 32|Female| 52000|2018-07-01|         null|           null|null|   null|  null|\n|        007|          101|James Johnson| 42|  Male| 70000|2012-03-15|         null|           null|null|   null|  null|\n|        008|          102|     Kate Kim| 29|Female| 51000|2019-10-01|         null|           null|null|   null|  null|\n|        009|          103|      Tom Tan| 33|  Male| 58000|2016-06-01|         null|           null|null|   null|  null|\n|        010|          104|     Lisa Lee| 27|Female| 47000|2018-08-01|         null|           null|null|   null|  null|\n|        011|          104|   David Park| 38|  Male| 65000|2015-11-01|         null|           null|null|   null|  null|\n|        012|          105|   Susan Chen| 31|Female| 54000|2017-02-15|         null|           null|null|   null|  null|\n|        013|          106|    Brian Kim| 45|  Male| 75000|2011-07-01|         null|           null|null|   null|  null|\n|        014|          107|    Emily Lee| 26|Female| 46000|2019-01-01|         null|           null|null|   null|  null|\n|        015|          106|  Michael Lee| 37|  Male| 63000|2014-09-30|         null|           null|null|   null|  null|\n|        016|          107|  Kelly Zhang| 30|Female| 49000|2018-04-01|         null|           null|null|   null|  null|\n|        017|          105|  George Wang| 34|  Male| 57000|2016-03-15|         null|           null|null|   null|  null|\n|        018|          104|    Nancy Liu| 29|      | 50000|2017-06-01|         null|           null|null|   null|  null|\n|        019|          103|  Steven Chen| 36|  Male| 62000|2015-08-01|         null|           null|null|   null|  null|\n|        020|          102|    Grace Kim| 32|Female| 53000|2018-11-01|         null|           null|null|   null|  null|\n+-----------+-------------+-------------+---+------+------+----------+-------------+---------------+----+-------+------+\n\n"
     ]
    }
   ],
   "source": [
    "# joining based on  whose salary is null noresult because everyone has salary...\n",
    "\n",
    "emp_final = emp_df.join(dep_df, (emp_df.department_id == dep_df.department_id)  & ((emp_df.department_id == 101) | (emp_df.department_id == 102)) & (emp_df.salary.isNull()) , \"left_outer\").show()"
   ]
  }
 ],
 "metadata": {
  "application/vnd.databricks.v1+notebook": {
   "computePreferences": null,
   "dashboards": [],
   "environmentMetadata": {
    "base_environment": "",
    "environment_version": "1"
   },
   "inputWidgetPreferences": null,
   "language": "python",
   "notebookMetadata": {
    "pythonIndentUnit": 4
   },
   "notebookName": "7- Repartioning & Joins",
   "widgets": {}
  }
 },
 "nbformat": 4,
 "nbformat_minor": 0
}