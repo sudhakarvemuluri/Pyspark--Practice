{
 "cells": [
  {
   "cell_type": "code",
   "execution_count": 0,
   "metadata": {
    "application/vnd.databricks.v1+cell": {
     "cellMetadata": {
      "byteLimit": 2048000,
      "rowLimit": 10000
     },
     "inputWidgets": {},
     "nuid": "6796a2ca-6216-46c6-9f9a-0f0871dc9209",
     "showTitle": false,
     "tableResultSettingsMap": {},
     "title": ""
    }
   },
   "outputs": [],
   "source": [
    "from pyspark.sql import SparkSession\n",
    "from pyspark.sql.functions import *\n",
    "from pyspark import SparkConf, SparkContext\n",
    "\n",
    "\n",
    "spark = SparkSession.builder.appName(\"basic transformation\").master(\"local[*]\").getOrCreate()"
   ]
  },
  {
   "cell_type": "code",
   "execution_count": 0,
   "metadata": {
    "application/vnd.databricks.v1+cell": {
     "cellMetadata": {
      "byteLimit": 2048000,
      "rowLimit": 10000
     },
     "inputWidgets": {},
     "nuid": "be6ce1f0-20cf-46ba-ba66-28ba314e2f14",
     "showTitle": false,
     "tableResultSettingsMap": {},
     "title": ""
    }
   },
   "outputs": [
    {
     "output_type": "display_data",
     "data": {
      "text/html": [
       "\n",
       "            <div>\n",
       "                <p><b>SparkSession - hive</b></p>\n",
       "                \n",
       "        <div>\n",
       "            <p><b>SparkContext</b></p>\n",
       "\n",
       "            <p><a href=\"/?o=1712464757339678#setting/sparkui/0403-104614-rxcymxpi/driver-2117941196271205213\">Spark UI</a></p>\n",
       "\n",
       "            <dl>\n",
       "              <dt>Version</dt>\n",
       "                <dd><code>v3.3.2</code></dd>\n",
       "              <dt>Master</dt>\n",
       "                <dd><code>local[8]</code></dd>\n",
       "              <dt>AppName</dt>\n",
       "                <dd><code>Databricks Shell</code></dd>\n",
       "            </dl>\n",
       "        </div>\n",
       "        \n",
       "            </div>\n",
       "        "
      ]
     },
     "metadata": {
      "application/vnd.databricks.v1+output": {
       "addedWidgets": {},
       "arguments": {},
       "data": "\n            <div>\n                <p><b>SparkSession - hive</b></p>\n                \n        <div>\n            <p><b>SparkContext</b></p>\n\n            <p><a href=\"/?o=1712464757339678#setting/sparkui/0403-104614-rxcymxpi/driver-2117941196271205213\">Spark UI</a></p>\n\n            <dl>\n              <dt>Version</dt>\n                <dd><code>v3.3.2</code></dd>\n              <dt>Master</dt>\n                <dd><code>local[8]</code></dd>\n              <dt>AppName</dt>\n                <dd><code>Databricks Shell</code></dd>\n            </dl>\n        </div>\n        \n            </div>\n        ",
       "datasetInfos": [],
       "metadata": {},
       "removedWidgets": [],
       "textData": null,
       "type": "htmlSandbox"
      }
     },
     "output_type": "display_data"
    }
   ],
   "source": [
    "spark"
   ]
  },
  {
   "cell_type": "code",
   "execution_count": 0,
   "metadata": {
    "application/vnd.databricks.v1+cell": {
     "cellMetadata": {
      "byteLimit": 2048000,
      "rowLimit": 10000
     },
     "inputWidgets": {},
     "nuid": "5d21ee09-3795-4c18-a1cf-a4026a8a53fd",
     "showTitle": false,
     "tableResultSettingsMap": {},
     "title": ""
    }
   },
   "outputs": [],
   "source": [
    "emp_data = [\n",
    "    [\"001\", \"101\", \"John Doe\", 30, \"Male\", 50000, \"2015-01-01\"],\n",
    "    [\"002\", \"101\", \"Jane Smith\", 25, \"Female\", 45000, \"2016-02-15\"],\n",
    "    [\"003\", \"102\", \"Bob Brown\", 35, \"Male\", 55000, \"2014-05-01\"],\n",
    "    [\"004\", \"102\", \"Alice Lee\", 28, \"Female\", 48000, \"2017-09-30\"],\n",
    "    [\"005\", \"103\", \"Jack Chan\", 40, \"Male\", 60000, \"2013-04-01\"],\n",
    "    [\"006\", \"103\", \"Jill Wong\", 32, \"Female\", 52000, \"2018-07-01\"],\n",
    "    [\"007\", \"101\", \"James Johnson\", 42, \"Male\", 70000, \"2012-03-15\"],\n",
    "    [\"008\", \"102\", \"Kate Kim\", 29, \"Female\", 51000, \"2019-10-01\"],\n",
    "    [\"009\", \"103\", \"Tom Tan\", 33, \"Male\", 58000, \"2016-06-01\"],\n",
    "    [\"010\", \"104\", \"Lisa Lee\", 27, \"Female\", 47000, \"2018-08-01\"],\n",
    "    [\"011\", \"104\", \"David Park\", 38, \"Male\", 65000, \"2015-11-01\"],\n",
    "    [\"012\", \"105\", \"Susan Chen\", 31, \"Female\", 54000, \"2017-02-15\"],\n",
    "    [\"013\", \"106\", \"Brian Kim\", 45, \"Male\", 75000, \"2011-07-01\"],\n",
    "    [\"014\", \"107\", \"Emily Lee\", 26, \"Female\", 46000, \"2019-01-01\"],\n",
    "    [\"015\", \"106\", \"Michael Lee\", 37, \"Male\", 63000, \"2014-09-30\"],\n",
    "    [\"016\", \"107\", \"Kelly Zhang\", 30, \"Female\", 49000, \"2018-04-01\"],\n",
    "    [\"017\", \"105\", \"George Wang\", 34, \"Male\", 57000, \"2016-03-15\"],\n",
    "    [\"018\", \"104\", \"Nancy Liu\", 29, \"Female\", 50000, \"2017-06-01\"],\n",
    "    [\"019\", \"103\", \"Steven Chen\", 36, \"Male\", 62000, \"2015-08-01\"],\n",
    "    [\"020\", \"102\", \"Grace Kim\", 32, \"Female\", 53000, \"2018-11-01\"],\n",
    "]\n",
    "\n",
    "emp_schema = \"employee_id string, department_id string, name string, age string, gender string, salary string, hire_date string\"\n",
    "\n",
    "\n",
    "emp = spark.createDataFrame(emp_data, schema=emp_schema)"
   ]
  },
  {
   "cell_type": "code",
   "execution_count": 0,
   "metadata": {
    "application/vnd.databricks.v1+cell": {
     "cellMetadata": {
      "byteLimit": 2048000,
      "rowLimit": 10000
     },
     "inputWidgets": {},
     "nuid": "967852f7-f53a-4863-846c-ddf310f992a9",
     "showTitle": false,
     "tableResultSettingsMap": {},
     "title": ""
    }
   },
   "outputs": [
    {
     "output_type": "stream",
     "name": "stdout",
     "output_type": "stream",
     "text": [
      "+-----------+-------------+-------------+---+------+------+----------+\n|employee_id|department_id|         name|age|gender|salary| hire_date|\n+-----------+-------------+-------------+---+------+------+----------+\n|        001|          101|     John Doe| 30|  Male| 50000|2015-01-01|\n|        002|          101|   Jane Smith| 25|Female| 45000|2016-02-15|\n|        003|          102|    Bob Brown| 35|  Male| 55000|2014-05-01|\n|        004|          102|    Alice Lee| 28|Female| 48000|2017-09-30|\n|        005|          103|    Jack Chan| 40|  Male| 60000|2013-04-01|\n|        006|          103|    Jill Wong| 32|Female| 52000|2018-07-01|\n|        007|          101|James Johnson| 42|  Male| 70000|2012-03-15|\n|        008|          102|     Kate Kim| 29|Female| 51000|2019-10-01|\n|        009|          103|      Tom Tan| 33|  Male| 58000|2016-06-01|\n|        010|          104|     Lisa Lee| 27|Female| 47000|2018-08-01|\n|        011|          104|   David Park| 38|  Male| 65000|2015-11-01|\n|        012|          105|   Susan Chen| 31|Female| 54000|2017-02-15|\n|        013|          106|    Brian Kim| 45|  Male| 75000|2011-07-01|\n|        014|          107|    Emily Lee| 26|Female| 46000|2019-01-01|\n|        015|          106|  Michael Lee| 37|  Male| 63000|2014-09-30|\n|        016|          107|  Kelly Zhang| 30|Female| 49000|2018-04-01|\n|        017|          105|  George Wang| 34|  Male| 57000|2016-03-15|\n|        018|          104|    Nancy Liu| 29|Female| 50000|2017-06-01|\n|        019|          103|  Steven Chen| 36|  Male| 62000|2015-08-01|\n|        020|          102|    Grace Kim| 32|Female| 53000|2018-11-01|\n+-----------+-------------+-------------+---+------+------+----------+\n\n"
     ]
    }
   ],
   "source": [
    "emp.show()"
   ]
  },
  {
   "cell_type": "code",
   "execution_count": 0,
   "metadata": {
    "application/vnd.databricks.v1+cell": {
     "cellMetadata": {
      "byteLimit": 2048000,
      "rowLimit": 10000
     },
     "inputWidgets": {},
     "nuid": "45e68dc0-418b-47a3-a057-25058e00dd58",
     "showTitle": false,
     "tableResultSettingsMap": {},
     "title": ""
    }
   },
   "outputs": [
    {
     "output_type": "stream",
     "name": "stdout",
     "output_type": "stream",
     "text": [
      "Out[4]: StructType([StructField('employee_id', StringType(), True), StructField('department_id', StringType(), True), StructField('name', StringType(), True), StructField('age', StringType(), True), StructField('gender', StringType(), True), StructField('salary', StringType(), True), StructField('hire_date', StringType(), True)])"
     ]
    }
   ],
   "source": [
    "emp.schema"
   ]
  },
  {
   "cell_type": "code",
   "execution_count": 0,
   "metadata": {
    "application/vnd.databricks.v1+cell": {
     "cellMetadata": {},
     "inputWidgets": {},
     "nuid": "aca98cc4-1cb5-47c1-9e66-fc686f8948ad",
     "showTitle": false,
     "tableResultSettingsMap": {},
     "title": ""
    }
   },
   "outputs": [],
   "source": []
  },
  {
   "cell_type": "markdown",
   "metadata": {
    "application/vnd.databricks.v1+cell": {
     "cellMetadata": {},
     "inputWidgets": {},
     "nuid": "e7cb15a0-f2ac-45e6-a2b9-c5da96679130",
     "showTitle": false,
     "tableResultSettingsMap": {},
     "title": ""
    }
   },
   "source": [
    "Spark basically stores in Struct type and Struct field.\n",
    "\n",
    "lets take an exmaple for Schema string\n",
    "\n",
    "Schema_string = \"name string, age int\"\n",
    "\n",
    "to write the above example in  Spark native schema we need to import modules. below is the execution example."
   ]
  },
  {
   "cell_type": "code",
   "execution_count": 0,
   "metadata": {
    "application/vnd.databricks.v1+cell": {
     "cellMetadata": {
      "byteLimit": 2048000,
      "rowLimit": 10000
     },
     "inputWidgets": {},
     "nuid": "4295d679-6a62-4ca1-b170-2ee5c8504a0a",
     "showTitle": false,
     "tableResultSettingsMap": {},
     "title": ""
    }
   },
   "outputs": [],
   "source": [
    "from pyspark.sql.types import StructField, StructType, StringType,IntegerType\n",
    "\n",
    "schema_spark = StructType([\n",
    "    \n",
    "    StructField(\"name\", StringType(), True),\n",
    "    StructField(\"age\", IntegerType(), True)\n",
    "    ])"
   ]
  },
  {
   "cell_type": "code",
   "execution_count": 0,
   "metadata": {
    "application/vnd.databricks.v1+cell": {
     "cellMetadata": {
      "byteLimit": 2048000,
      "rowLimit": 10000
     },
     "inputWidgets": {},
     "nuid": "6158da11-46e3-4000-98fe-2f15b49eadda",
     "showTitle": false,
     "tableResultSettingsMap": {},
     "title": ""
    }
   },
   "outputs": [],
   "source": [
    "# Select Example\n",
    "#selecting columns from emp DF\n",
    "\n",
    "\n",
    "emp_filtered = emp.select(\"employee_id\",\"name\", \"age\", \"salary\")"
   ]
  },
  {
   "cell_type": "code",
   "execution_count": 0,
   "metadata": {
    "application/vnd.databricks.v1+cell": {
     "cellMetadata": {
      "byteLimit": 2048000,
      "rowLimit": 10000
     },
     "inputWidgets": {},
     "nuid": "7b79c4d9-d4fa-4882-9d74-a267c52c5ced",
     "showTitle": false,
     "tableResultSettingsMap": {},
     "title": ""
    }
   },
   "outputs": [
    {
     "output_type": "stream",
     "name": "stdout",
     "output_type": "stream",
     "text": [
      "+-----------+-------------+---+------+\n|employee_id|         name|age|salary|\n+-----------+-------------+---+------+\n|        001|     John Doe| 30| 50000|\n|        002|   Jane Smith| 25| 45000|\n|        003|    Bob Brown| 35| 55000|\n|        004|    Alice Lee| 28| 48000|\n|        005|    Jack Chan| 40| 60000|\n|        006|    Jill Wong| 32| 52000|\n|        007|James Johnson| 42| 70000|\n|        008|     Kate Kim| 29| 51000|\n|        009|      Tom Tan| 33| 58000|\n|        010|     Lisa Lee| 27| 47000|\n|        011|   David Park| 38| 65000|\n|        012|   Susan Chen| 31| 54000|\n|        013|    Brian Kim| 45| 75000|\n|        014|    Emily Lee| 26| 46000|\n|        015|  Michael Lee| 37| 63000|\n|        016|  Kelly Zhang| 30| 49000|\n|        017|  George Wang| 34| 57000|\n|        018|    Nancy Liu| 29| 50000|\n|        019|  Steven Chen| 36| 62000|\n|        020|    Grace Kim| 32| 53000|\n+-----------+-------------+---+------+\n\n"
     ]
    }
   ],
   "source": [
    "emp_filtered.show()"
   ]
  },
  {
   "cell_type": "code",
   "execution_count": 0,
   "metadata": {
    "application/vnd.databricks.v1+cell": {
     "cellMetadata": {
      "byteLimit": 2048000,
      "rowLimit": 10000
     },
     "inputWidgets": {},
     "nuid": "e658b114-af49-4ebe-b8b9-d04039f7ad21",
     "showTitle": false,
     "tableResultSettingsMap": {},
     "title": ""
    }
   },
   "outputs": [
    {
     "output_type": "stream",
     "name": "stdout",
     "output_type": "stream",
     "text": [
      "+-----------+-------------+---+------+\n|employee_id|         name|age|salary|\n+-----------+-------------+---+------+\n|        001|     John Doe| 30| 50000|\n|        002|   Jane Smith| 25| 45000|\n|        003|    Bob Brown| 35| 55000|\n|        004|    Alice Lee| 28| 48000|\n|        005|    Jack Chan| 40| 60000|\n|        006|    Jill Wong| 32| 52000|\n|        007|James Johnson| 42| 70000|\n|        008|     Kate Kim| 29| 51000|\n|        009|      Tom Tan| 33| 58000|\n|        010|     Lisa Lee| 27| 47000|\n|        011|   David Park| 38| 65000|\n|        012|   Susan Chen| 31| 54000|\n|        013|    Brian Kim| 45| 75000|\n|        014|    Emily Lee| 26| 46000|\n|        015|  Michael Lee| 37| 63000|\n|        016|  Kelly Zhang| 30| 49000|\n|        017|  George Wang| 34| 57000|\n|        018|    Nancy Liu| 29| 50000|\n|        019|  Steven Chen| 36| 62000|\n|        020|    Grace Kim| 32| 53000|\n+-----------+-------------+---+------+\n\n"
     ]
    }
   ],
   "source": [
    "#another way of selecting the columns with implicitly mentioning column\n",
    "\n",
    "emp_filtered2 = emp.select(col(\"employee_id\"),expr(\"name\"), \"age\",\"salary\").show()"
   ]
  },
  {
   "cell_type": "markdown",
   "metadata": {
    "application/vnd.databricks.v1+cell": {
     "cellMetadata": {},
     "inputWidgets": {},
     "nuid": "e833b53e-40eb-49ad-950c-586573629c9c",
     "showTitle": false,
     "tableResultSettingsMap": {},
     "title": ""
    }
   },
   "source": [
    "## # #ways of selecting column names in a select statement \n",
    "\n",
    "col(\"column_name\") or \"column_name\", dataframe.column_name"
   ]
  },
  {
   "cell_type": "code",
   "execution_count": 0,
   "metadata": {
    "application/vnd.databricks.v1+cell": {
     "cellMetadata": {
      "byteLimit": 2048000,
      "rowLimit": 10000
     },
     "inputWidgets": {},
     "nuid": "43ca8607-e94b-46f8-a14e-4efc00a9f6a3",
     "showTitle": false,
     "tableResultSettingsMap": {},
     "title": ""
    }
   },
   "outputs": [
    {
     "output_type": "stream",
     "name": "stdout",
     "output_type": "stream",
     "text": [
      "+------+-------------+---+------+\n|emp_id|         name|int|salary|\n+------+-------------+---+------+\n|   001|     John Doe| 30| 50000|\n|   002|   Jane Smith| 25| 45000|\n|   003|    Bob Brown| 35| 55000|\n|   004|    Alice Lee| 28| 48000|\n|   005|    Jack Chan| 40| 60000|\n|   006|    Jill Wong| 32| 52000|\n|   007|James Johnson| 42| 70000|\n|   008|     Kate Kim| 29| 51000|\n|   009|      Tom Tan| 33| 58000|\n|   010|     Lisa Lee| 27| 47000|\n|   011|   David Park| 38| 65000|\n|   012|   Susan Chen| 31| 54000|\n|   013|    Brian Kim| 45| 75000|\n|   014|    Emily Lee| 26| 46000|\n|   015|  Michael Lee| 37| 63000|\n|   016|  Kelly Zhang| 30| 49000|\n|   017|  George Wang| 34| 57000|\n|   018|    Nancy Liu| 29| 50000|\n|   019|  Steven Chen| 36| 62000|\n|   020|    Grace Kim| 32| 53000|\n+------+-------------+---+------+\n\n"
     ]
    }
   ],
   "source": [
    "# changing the column name and casting the age column to integer and if you want to mention the column we can write explicitly as dataframe.column_name ex: emp.name\n",
    "\n",
    "\n",
    "emp_cast = emp_filtered.select(expr(\"employee_id as emp_id\"),\n",
    "                                emp_filtered.name,\n",
    "                                expr(\"cast(age as int)as int\"),\n",
    "                                \"salary\")\n",
    "emp_cast.show()\n",
    "\n"
   ]
  },
  {
   "cell_type": "code",
   "execution_count": 0,
   "metadata": {
    "application/vnd.databricks.v1+cell": {
     "cellMetadata": {
      "byteLimit": 2048000,
      "rowLimit": 10000
     },
     "inputWidgets": {},
     "nuid": "010c6c15-4347-4b07-b4b6-35bf5652d85a",
     "showTitle": false,
     "tableResultSettingsMap": {},
     "title": ""
    }
   },
   "outputs": [
    {
     "output_type": "stream",
     "name": "stdout",
     "output_type": "stream",
     "text": [
      "root\n |-- emp_id: string (nullable = true)\n |-- name: string (nullable = true)\n |-- int: integer (nullable = true)\n |-- salary: string (nullable = true)\n\n"
     ]
    }
   ],
   "source": [
    "emp_cast.printSchema()\n",
    "#age is changed to integer datatype"
   ]
  },
  {
   "cell_type": "code",
   "execution_count": 0,
   "metadata": {
    "application/vnd.databricks.v1+cell": {
     "cellMetadata": {
      "byteLimit": 2048000,
      "rowLimit": 10000
     },
     "inputWidgets": {},
     "nuid": "9115314c-7cf4-420f-a78b-1163a7223bac",
     "showTitle": false,
     "tableResultSettingsMap": {},
     "title": ""
    }
   },
   "outputs": [],
   "source": [
    "emp_cast1 = emp_filtered.selectExpr(\"employee_id as emp_id\", \"name\", \"cast(age as int)\",\"salary\")"
   ]
  },
  {
   "cell_type": "code",
   "execution_count": 0,
   "metadata": {
    "application/vnd.databricks.v1+cell": {
     "cellMetadata": {
      "byteLimit": 2048000,
      "rowLimit": 10000
     },
     "inputWidgets": {},
     "nuid": "c4eade22-4de9-4b23-adb1-cef9746d97c1",
     "showTitle": false,
     "tableResultSettingsMap": {},
     "title": ""
    }
   },
   "outputs": [
    {
     "output_type": "stream",
     "name": "stdout",
     "output_type": "stream",
     "text": [
      "+------+-------------+---+------+\n|emp_id|         name|age|salary|\n+------+-------------+---+------+\n|   001|     John Doe| 30| 50000|\n|   002|   Jane Smith| 25| 45000|\n|   003|    Bob Brown| 35| 55000|\n|   004|    Alice Lee| 28| 48000|\n|   005|    Jack Chan| 40| 60000|\n|   006|    Jill Wong| 32| 52000|\n|   007|James Johnson| 42| 70000|\n|   008|     Kate Kim| 29| 51000|\n|   009|      Tom Tan| 33| 58000|\n|   010|     Lisa Lee| 27| 47000|\n|   011|   David Park| 38| 65000|\n|   012|   Susan Chen| 31| 54000|\n|   013|    Brian Kim| 45| 75000|\n|   014|    Emily Lee| 26| 46000|\n|   015|  Michael Lee| 37| 63000|\n|   016|  Kelly Zhang| 30| 49000|\n|   017|  George Wang| 34| 57000|\n|   018|    Nancy Liu| 29| 50000|\n|   019|  Steven Chen| 36| 62000|\n|   020|    Grace Kim| 32| 53000|\n+------+-------------+---+------+\n\n"
     ]
    }
   ],
   "source": [
    "emp_cast1.show()"
   ]
  },
  {
   "cell_type": "code",
   "execution_count": 0,
   "metadata": {
    "application/vnd.databricks.v1+cell": {
     "cellMetadata": {
      "byteLimit": 2048000,
      "rowLimit": 10000
     },
     "inputWidgets": {},
     "nuid": "f47ad82f-4554-4ad0-8c9f-d2a05dfca088",
     "showTitle": false,
     "tableResultSettingsMap": {},
     "title": ""
    }
   },
   "outputs": [],
   "source": [
    "# filtering the employee whose age is above 30\n",
    "\n",
    "emp_final = emp_cast1.selectExpr(\"emp_id\", \"name\", \"age\", \"salary\").where(\"age>30\")"
   ]
  },
  {
   "cell_type": "code",
   "execution_count": 0,
   "metadata": {
    "application/vnd.databricks.v1+cell": {
     "cellMetadata": {
      "byteLimit": 2048000,
      "rowLimit": 10000
     },
     "inputWidgets": {},
     "nuid": "50cfd446-564f-421f-a068-c59c862d428c",
     "showTitle": false,
     "tableResultSettingsMap": {},
     "title": ""
    }
   },
   "outputs": [
    {
     "output_type": "stream",
     "name": "stdout",
     "output_type": "stream",
     "text": [
      "+------+-------------+---+------+\n|emp_id|         name|age|salary|\n+------+-------------+---+------+\n|   003|    Bob Brown| 35| 55000|\n|   005|    Jack Chan| 40| 60000|\n|   006|    Jill Wong| 32| 52000|\n|   007|James Johnson| 42| 70000|\n|   009|      Tom Tan| 33| 58000|\n|   011|   David Park| 38| 65000|\n|   012|   Susan Chen| 31| 54000|\n|   013|    Brian Kim| 45| 75000|\n|   015|  Michael Lee| 37| 63000|\n|   017|  George Wang| 34| 57000|\n|   019|  Steven Chen| 36| 62000|\n|   020|    Grace Kim| 32| 53000|\n+------+-------------+---+------+\n\n"
     ]
    }
   ],
   "source": [
    "emp_final.show()"
   ]
  },
  {
   "cell_type": "code",
   "execution_count": 0,
   "metadata": {
    "application/vnd.databricks.v1+cell": {
     "cellMetadata": {
      "byteLimit": 2048000,
      "rowLimit": 10000
     },
     "inputWidgets": {},
     "nuid": "c2ac0b3e-395e-4694-93b6-1ff4e527a359",
     "showTitle": false,
     "tableResultSettingsMap": {},
     "title": ""
    }
   },
   "outputs": [],
   "source": [
    "emp_final.write.format(\"csv\").mode(\"overwrite\").save(\"dbfs:/FileStore/tables/select&selectExpr\")"
   ]
  },
  {
   "cell_type": "code",
   "execution_count": 0,
   "metadata": {
    "application/vnd.databricks.v1+cell": {
     "cellMetadata": {},
     "inputWidgets": {},
     "nuid": "976711de-b23c-4c47-97d8-6b99d638c511",
     "showTitle": false,
     "tableResultSettingsMap": {},
     "title": ""
    }
   },
   "outputs": [],
   "source": []
  }
 ],
 "metadata": {
  "application/vnd.databricks.v1+notebook": {
   "computePreferences": null,
   "dashboards": [],
   "environmentMetadata": {
    "base_environment": "",
    "environment_version": "1"
   },
   "inputWidgetPreferences": null,
   "language": "python",
   "notebookMetadata": {
    "pythonIndentUnit": 4
   },
   "notebookName": "Select & SelectExpr methods",
   "widgets": {}
  }
 },
 "nbformat": 4,
 "nbformat_minor": 0
}
