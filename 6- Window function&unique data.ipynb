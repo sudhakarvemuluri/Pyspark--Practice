{
 "cells": [
  {
   "cell_type": "code",
   "execution_count": 0,
   "metadata": {
    "application/vnd.databricks.v1+cell": {
     "cellMetadata": {
      "byteLimit": 2048000,
      "rowLimit": 10000
     },
     "inputWidgets": {},
     "nuid": "09f9d705-73ba-41c0-85bb-1f92658edddd",
     "showTitle": false,
     "tableResultSettingsMap": {},
     "title": ""
    }
   },
   "outputs": [],
   "source": [
    "from pyspark.sql import SparkSession\n",
    "from pyspark.sql.functions import *\n",
    "from pyspark.sql.window import Window\n",
    "spark = SparkSession.builder.master(\"local[*]\").appName(\"windowing\").getOrCreate()"
   ]
  },
  {
   "cell_type": "code",
   "execution_count": 0,
   "metadata": {
    "application/vnd.databricks.v1+cell": {
     "cellMetadata": {
      "byteLimit": 2048000,
      "rowLimit": 10000
     },
     "inputWidgets": {},
     "nuid": "15a074a8-8e06-456c-86e1-b3d02eba1862",
     "showTitle": false,
     "tableResultSettingsMap": {},
     "title": ""
    }
   },
   "outputs": [],
   "source": [
    "data = [\n",
    "    [\"000\", \"107\", \"Emily Lee\", 26, \"\", 46000, \"2019-01-01\"],\n",
    "    [\"001\", \"101\", \"John Doe\", 30, \"Male\", 50000, \"2015-01-01\"],\n",
    "    [\"002\", \"101\", \"Jane Smith\", 25, \"Female\", 45000, \"2016-02-15\"],\n",
    "    [\"003\", \"102\", \"Bob Brown\", 35, \"Male\", 55000, \"2014-05-01\"],\n",
    "    [\"004\", \"102\", \"Alice Lee\", 28, \"Female\", 48000, \"2017-09-30\"],\n",
    "    [\"005\", \"103\", \"Jack Chan\", 40, \"Male\", 60000, \"2013-04-01\"],\n",
    "    [\"006\", \"103\", \"Jill Wong\", 32, \"Female\", 52000, \"2018-07-01\"],\n",
    "    [\"007\", \"101\", \"James Johnson\", 42, \"Male\", 70000, \"2012-03-15\"],\n",
    "    [\"008\", \"102\", \"Kate Kim\", 29, \"Female\", 51000, \"2019-10-01\"],\n",
    "    [\"009\", \"103\", \"Tom Tan\", 33, \"Male\", 58000, \"2016-06-01\"],\n",
    "    [\"010\", \"104\", \"Lisa Lee\", 27, \"Female\", 47000, \"2018-08-01\"],\n",
    "    [\"011\", \"104\", \"David Park\", 38, \"Male\", 65000, \"2015-11-01\"],\n",
    "    [\"012\", \"105\", \"Susan Chen\", 31, \"Female\", 54000, \"2017-02-15\"],\n",
    "    [\"013\", \"106\", \"Brian Kim\", 45, \"Male\", 75000, \"2011-07-01\"],\n",
    "    [\"014\", \"107\", \"Emily Lee\", 26, \"Female\", 46000, \"2019-01-01\"],\n",
    "    [\"015\", \"106\", \"Michael Lee\", 37, \"Male\", 63000, \"2014-09-30\"],\n",
    "    [\"016\", \"107\", \"Kelly Zhang\", 30, \"Female\", 49000, \"2018-04-01\"],\n",
    "    [\"017\", \"105\", \"George Wang\", 34, \"Male\", 57000, \"2016-03-15\"],\n",
    "    [\"018\", \"104\", \"Nancy Liu\", 29, \"Female\", 50000, \"2017-06-01\"],\n",
    "    [\"019\", \"103\", \"Steven Chen\", 36, \"Male\", 62000, \"2015-08-01\"],\n",
    "    [\"020\", \"102\", \"Grace Kim\", 32, \"Female\", 53000, \"2018-11-01\"],\n",
    "]\n",
    "\n",
    "emp_schema = \"employee_id string, department_id string, name string, age string, gender string, salary string, hire_date string\""
   ]
  },
  {
   "cell_type": "code",
   "execution_count": 0,
   "metadata": {
    "application/vnd.databricks.v1+cell": {
     "cellMetadata": {
      "byteLimit": 2048000,
      "rowLimit": 10000
     },
     "inputWidgets": {},
     "nuid": "6b9df219-9aba-4ca5-adc5-6919cd8e4662",
     "showTitle": false,
     "tableResultSettingsMap": {},
     "title": ""
    }
   },
   "outputs": [],
   "source": [
    "df = spark.createDataFrame(data,schema = emp_schema)"
   ]
  },
  {
   "cell_type": "code",
   "execution_count": 0,
   "metadata": {
    "application/vnd.databricks.v1+cell": {
     "cellMetadata": {
      "byteLimit": 2048000,
      "rowLimit": 10000
     },
     "inputWidgets": {},
     "nuid": "40355a43-d76b-43bd-8594-7f8579486a8b",
     "showTitle": false,
     "tableResultSettingsMap": {},
     "title": ""
    }
   },
   "outputs": [
    {
     "output_type": "stream",
     "name": "stdout",
     "output_type": "stream",
     "text": [
      "+-----------+-------------+-------------+---+------+------+----------+\n|employee_id|department_id|         name|age|gender|salary| hire_date|\n+-----------+-------------+-------------+---+------+------+----------+\n|        000|          107|    Emily Lee| 26|      | 46000|2019-01-01|\n|        001|          101|     John Doe| 30|  Male| 50000|2015-01-01|\n|        002|          101|   Jane Smith| 25|Female| 45000|2016-02-15|\n|        003|          102|    Bob Brown| 35|  Male| 55000|2014-05-01|\n|        004|          102|    Alice Lee| 28|Female| 48000|2017-09-30|\n|        005|          103|    Jack Chan| 40|  Male| 60000|2013-04-01|\n|        006|          103|    Jill Wong| 32|Female| 52000|2018-07-01|\n|        007|          101|James Johnson| 42|  Male| 70000|2012-03-15|\n|        008|          102|     Kate Kim| 29|Female| 51000|2019-10-01|\n|        009|          103|      Tom Tan| 33|  Male| 58000|2016-06-01|\n|        010|          104|     Lisa Lee| 27|Female| 47000|2018-08-01|\n|        011|          104|   David Park| 38|  Male| 65000|2015-11-01|\n|        012|          105|   Susan Chen| 31|Female| 54000|2017-02-15|\n|        013|          106|    Brian Kim| 45|  Male| 75000|2011-07-01|\n|        014|          107|    Emily Lee| 26|Female| 46000|2019-01-01|\n|        015|          106|  Michael Lee| 37|  Male| 63000|2014-09-30|\n|        016|          107|  Kelly Zhang| 30|Female| 49000|2018-04-01|\n|        017|          105|  George Wang| 34|  Male| 57000|2016-03-15|\n|        018|          104|    Nancy Liu| 29|Female| 50000|2017-06-01|\n|        019|          103|  Steven Chen| 36|  Male| 62000|2015-08-01|\n+-----------+-------------+-------------+---+------+------+----------+\nonly showing top 20 rows\n\n"
     ]
    }
   ],
   "source": [
    "df.show()"
   ]
  },
  {
   "cell_type": "markdown",
   "metadata": {
    "application/vnd.databricks.v1+cell": {
     "cellMetadata": {},
     "inputWidgets": {},
     "nuid": "da5323bb-0c32-486c-aa1a-ba295dd149f4",
     "showTitle": false,
     "tableResultSettingsMap": {},
     "title": ""
    }
   },
   "source": [
    "# Need to use distinct() function to get the non-duplicate values"
   ]
  },
  {
   "cell_type": "code",
   "execution_count": 0,
   "metadata": {
    "application/vnd.databricks.v1+cell": {
     "cellMetadata": {
      "byteLimit": 2048000,
      "rowLimit": 10000
     },
     "inputWidgets": {},
     "nuid": "fd87ec8a-f16b-426b-9b25-3dca70625dd0",
     "showTitle": false,
     "tableResultSettingsMap": {},
     "title": ""
    }
   },
   "outputs": [
    {
     "output_type": "stream",
     "name": "stdout",
     "output_type": "stream",
     "text": [
      "+-----------+-------------+-------------+---+------+------+----------+\n|employee_id|department_id|         name|age|gender|salary| hire_date|\n+-----------+-------------+-------------+---+------+------+----------+\n|        000|          107|    Emily Lee| 26|      | 46000|2019-01-01|\n|        001|          101|     John Doe| 30|  Male| 50000|2015-01-01|\n|        003|          102|    Bob Brown| 35|  Male| 55000|2014-05-01|\n|        002|          101|   Jane Smith| 25|Female| 45000|2016-02-15|\n|        007|          101|James Johnson| 42|  Male| 70000|2012-03-15|\n|        005|          103|    Jack Chan| 40|  Male| 60000|2013-04-01|\n|        004|          102|    Alice Lee| 28|Female| 48000|2017-09-30|\n|        006|          103|    Jill Wong| 32|Female| 52000|2018-07-01|\n|        009|          103|      Tom Tan| 33|  Male| 58000|2016-06-01|\n|        008|          102|     Kate Kim| 29|Female| 51000|2019-10-01|\n|        011|          104|   David Park| 38|  Male| 65000|2015-11-01|\n|        010|          104|     Lisa Lee| 27|Female| 47000|2018-08-01|\n|        015|          106|  Michael Lee| 37|  Male| 63000|2014-09-30|\n|        012|          105|   Susan Chen| 31|Female| 54000|2017-02-15|\n|        014|          107|    Emily Lee| 26|Female| 46000|2019-01-01|\n|        013|          106|    Brian Kim| 45|  Male| 75000|2011-07-01|\n|        016|          107|  Kelly Zhang| 30|Female| 49000|2018-04-01|\n|        017|          105|  George Wang| 34|  Male| 57000|2016-03-15|\n|        018|          104|    Nancy Liu| 29|Female| 50000|2017-06-01|\n|        019|          103|  Steven Chen| 36|  Male| 62000|2015-08-01|\n+-----------+-------------+-------------+---+------+------+----------+\nonly showing top 20 rows\n\n"
     ]
    }
   ],
   "source": [
    "df_non_duplicate = df.distinct()\n",
    "df_non_duplicate.show()"
   ]
  },
  {
   "cell_type": "markdown",
   "metadata": {
    "application/vnd.databricks.v1+cell": {
     "cellMetadata": {},
     "inputWidgets": {},
     "nuid": "cc76caff-a9da-4378-89bb-4b5aabcfc08f",
     "showTitle": false,
     "tableResultSettingsMap": {},
     "title": ""
    }
   },
   "source": [
    "## Selecting unique department_id"
   ]
  },
  {
   "cell_type": "code",
   "execution_count": 0,
   "metadata": {
    "application/vnd.databricks.v1+cell": {
     "cellMetadata": {
      "byteLimit": 2048000,
      "rowLimit": 10000
     },
     "inputWidgets": {},
     "nuid": "75bc7376-794e-4532-8881-676d7a21233e",
     "showTitle": false,
     "tableResultSettingsMap": {},
     "title": ""
    }
   },
   "outputs": [
    {
     "output_type": "stream",
     "name": "stdout",
     "output_type": "stream",
     "text": [
      "+-------------+\n|department_id|\n+-------------+\n|          101|\n|          107|\n|          102|\n|          103|\n|          104|\n|          106|\n|          105|\n+-------------+\n\n"
     ]
    }
   ],
   "source": [
    "emp_distinct_department_id = df.select(\"department_id\").distinct().show()"
   ]
  },
  {
   "cell_type": "markdown",
   "metadata": {
    "application/vnd.databricks.v1+cell": {
     "cellMetadata": {},
     "inputWidgets": {},
     "nuid": "700f9e71-3eab-47e0-a0bd-4622f3d25df4",
     "showTitle": false,
     "tableResultSettingsMap": {},
     "title": ""
    }
   },
   "source": [
    "# Window function---> provides partitioning on group of data"
   ]
  },
  {
   "cell_type": "code",
   "execution_count": 0,
   "metadata": {
    "application/vnd.databricks.v1+cell": {
     "cellMetadata": {
      "byteLimit": 2048000,
      "rowLimit": 10000
     },
     "inputWidgets": {},
     "nuid": "ea5adb01-8968-49b7-be1f-d604d1ca9eec",
     "showTitle": false,
     "tableResultSettingsMap": {},
     "title": ""
    }
   },
   "outputs": [
    {
     "output_type": "stream",
     "name": "stdout",
     "output_type": "stream",
     "text": [
      "+-----------+-------------+-------------+---+------+------+----------+----------+\n|employee_id|department_id|         name|age|gender|salary| hire_date|max_salary|\n+-----------+-------------+-------------+---+------+------+----------+----------+\n|        007|          101|James Johnson| 42|  Male| 70000|2012-03-15|     70000|\n|        001|          101|     John Doe| 30|  Male| 50000|2015-01-01|     70000|\n|        002|          101|   Jane Smith| 25|Female| 45000|2016-02-15|     70000|\n|        003|          102|    Bob Brown| 35|  Male| 55000|2014-05-01|     55000|\n|        020|          102|    Grace Kim| 32|Female| 53000|2018-11-01|     55000|\n|        008|          102|     Kate Kim| 29|Female| 51000|2019-10-01|     55000|\n|        004|          102|    Alice Lee| 28|Female| 48000|2017-09-30|     55000|\n|        019|          103|  Steven Chen| 36|  Male| 62000|2015-08-01|     62000|\n|        005|          103|    Jack Chan| 40|  Male| 60000|2013-04-01|     62000|\n|        009|          103|      Tom Tan| 33|  Male| 58000|2016-06-01|     62000|\n|        006|          103|    Jill Wong| 32|Female| 52000|2018-07-01|     62000|\n|        011|          104|   David Park| 38|  Male| 65000|2015-11-01|     65000|\n|        018|          104|    Nancy Liu| 29|Female| 50000|2017-06-01|     65000|\n|        010|          104|     Lisa Lee| 27|Female| 47000|2018-08-01|     65000|\n|        017|          105|  George Wang| 34|  Male| 57000|2016-03-15|     57000|\n|        012|          105|   Susan Chen| 31|Female| 54000|2017-02-15|     57000|\n|        013|          106|    Brian Kim| 45|  Male| 75000|2011-07-01|     75000|\n|        015|          106|  Michael Lee| 37|  Male| 63000|2014-09-30|     75000|\n|        016|          107|  Kelly Zhang| 30|Female| 49000|2018-04-01|     49000|\n|        000|          107|    Emily Lee| 26|      | 46000|2019-01-01|     49000|\n+-----------+-------------+-------------+---+------+------+----------+----------+\nonly showing top 20 rows\n\n"
     ]
    }
   ],
   "source": [
    "# select max salary over partition\n",
    "\n",
    "window_spec = Window.partitionBy(col(\"department_id\")).orderBy(col(\"salary\").desc())\n",
    "max_final = df.withColumn(\"max_salary\",max(col(\"salary\")).over(window_spec)).show()\n",
    "\n"
   ]
  },
  {
   "cell_type": "markdown",
   "metadata": {
    "application/vnd.databricks.v1+cell": {
     "cellMetadata": {},
     "inputWidgets": {},
     "nuid": "e5cbdf3d-0e8b-4a9f-9eb3-c1203420f443",
     "showTitle": false,
     "tableResultSettingsMap": {},
     "title": ""
    }
   },
   "source": [
    "## 2nd highest salary in dept"
   ]
  },
  {
   "cell_type": "code",
   "execution_count": 0,
   "metadata": {
    "application/vnd.databricks.v1+cell": {
     "cellMetadata": {
      "byteLimit": 2048000,
      "rowLimit": 10000
     },
     "inputWidgets": {},
     "nuid": "9665b715-bfa2-47f6-b0d3-f4ac07bd60a2",
     "showTitle": false,
     "tableResultSettingsMap": {},
     "title": ""
    }
   },
   "outputs": [
    {
     "output_type": "stream",
     "name": "stdout",
     "output_type": "stream",
     "text": [
      "+-----------+-------------+-----------+---+------+------+----------+----------+\n|employee_id|department_id|       name|age|gender|salary| hire_date|row_number|\n+-----------+-------------+-----------+---+------+------+----------+----------+\n|        001|          101|   John Doe| 30|  Male| 50000|2015-01-01|         2|\n|        020|          102|  Grace Kim| 32|Female| 53000|2018-11-01|         2|\n|        005|          103|  Jack Chan| 40|  Male| 60000|2013-04-01|         2|\n|        018|          104|  Nancy Liu| 29|Female| 50000|2017-06-01|         2|\n|        012|          105| Susan Chen| 31|Female| 54000|2017-02-15|         2|\n|        015|          106|Michael Lee| 37|  Male| 63000|2014-09-30|         2|\n|        000|          107|  Emily Lee| 26|      | 46000|2019-01-01|         2|\n+-----------+-------------+-----------+---+------+------+----------+----------+\n\n+-----------+-------------+-----------+---+------+------+----------+---+\n|employee_id|department_id|       name|age|gender|salary| hire_date| rn|\n+-----------+-------------+-----------+---+------+------+----------+---+\n|        001|          101|   John Doe| 30|  Male| 50000|2015-01-01|  2|\n|        020|          102|  Grace Kim| 32|Female| 53000|2018-11-01|  2|\n|        005|          103|  Jack Chan| 40|  Male| 60000|2013-04-01|  2|\n|        018|          104|  Nancy Liu| 29|Female| 50000|2017-06-01|  2|\n|        012|          105| Susan Chen| 31|Female| 54000|2017-02-15|  2|\n|        015|          106|Michael Lee| 37|  Male| 63000|2014-09-30|  2|\n|        000|          107|  Emily Lee| 26|      | 46000|2019-01-01|  2|\n+-----------+-------------+-----------+---+------+------+----------+---+\n\n"
     ]
    }
   ],
   "source": [
    "window_df = Window.partitionBy(\"department_id\").orderBy(col(\"salary\").desc())\n",
    "\n",
    "row_df = df.withColumn(\"row_number\", row_number().over(window_df)).where(\"row_number =2\").show()\n",
    "\n",
    "\n",
    "# we can also write in SQL also if you find Pyspark API is difficult.\n",
    "\n",
    "row_df_2 = df.withColumn(\"rn\", expr(\"row_number() over(partition by department_id order by salary desc)\")).where(\"rn = 2\").show()"
   ]
  }
 ],
 "metadata": {
  "application/vnd.databricks.v1+notebook": {
   "computePreferences": null,
   "dashboards": [],
   "environmentMetadata": {
    "base_environment": "",
    "environment_version": "1"
   },
   "inputWidgetPreferences": null,
   "language": "python",
   "notebookMetadata": {
    "pythonIndentUnit": 4
   },
   "notebookName": "6- Window function&unique data",
   "widgets": {}
  }
 },
 "nbformat": 4,
 "nbformat_minor": 0
}